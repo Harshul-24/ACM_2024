{
 "cells": [
  {
   "cell_type": "markdown",
   "metadata": {},
   "source": []
  },
  {
   "cell_type": "code",
   "execution_count": 4,
   "metadata": {
    "colab": {
     "base_uri": "https://localhost:8080/"
    },
    "execution": {
     "iopub.execute_input": "2024-01-29T06:28:26.401410Z",
     "iopub.status.busy": "2024-01-29T06:28:26.401019Z",
     "iopub.status.idle": "2024-01-29T06:34:48.787595Z",
     "shell.execute_reply": "2024-01-29T06:34:48.786161Z",
     "shell.execute_reply.started": "2024-01-29T06:28:26.401373Z"
    },
    "id": "WITjlYIZXQSJ",
    "outputId": "0fbcbc41-53d3-4569-b702-764f8cee22b8"
   },
   "outputs": [
    {
     "name": "stdout",
     "output_type": "stream",
     "text": [
      "\u001b[31mERROR: pip's dependency resolver does not currently take into account all the packages that are installed. This behaviour is the source of the following dependency conflicts.\n",
      "torchaudio 2.0.1 requires torch==2.0.0, but you have torch 2.0.1 which is incompatible.\n",
      "torchvision 0.15.1 requires torch==2.0.0, but you have torch 2.0.1 which is incompatible.\u001b[0m\u001b[31m\n",
      "\u001b[0m\u001b[31mERROR: Could not build wheels for tokenizers, which is required to install pyproject.toml-based projects\u001b[0m\u001b[31m\n",
      "\u001b[0m\u001b[31mERROR: Could not find a version that satisfies the requirement auto-gptq==0.4.2 (from versions: 0.0.4, 0.0.5, 0.1.0, 0.2.0, 0.2.1, 0.2.2, 0.3.0, 0.3.1, 0.3.2, 0.5.0, 0.5.1, 0.6.0)\u001b[0m\u001b[31m\n",
      "\u001b[0m\u001b[31mERROR: No matching distribution found for auto-gptq==0.4.2\u001b[0m\u001b[31m\n",
      "\u001b[0m"
     ]
    }
   ],
   "source": [
    "!pip install -Uqqq pip --progress-bar off\n",
    "!pip install -qqq torch==2.0.1 --progress-bar off\n",
    "!pip install -qqq transformers==4.33.2 --progress-bar off\n",
    "!pip install -qqq langchain==0.0.299 --progress-bar off\n",
    "!pip install -qqq chromadb==0.4.10 --progress-bar off\n",
    "!pip install -qqq xformers==0.0.21 --progress-bar off\n",
    "!pip install -qqq sentence_transformers==2.2.2 --progress-bar off\n",
    "!pip install -qqq tokenizers==0.11.1 --progress-bar off\n"
   ]
  },
  {
   "cell_type": "code",
   "execution_count": 6,
   "metadata": {
    "execution": {
     "iopub.execute_input": "2024-01-29T06:34:51.263006Z",
     "iopub.status.busy": "2024-01-29T06:34:51.262277Z",
     "iopub.status.idle": "2024-01-29T06:34:51.637669Z",
     "shell.execute_reply": "2024-01-29T06:34:51.636739Z",
     "shell.execute_reply.started": "2024-01-29T06:34:51.262973Z"
    },
    "id": "88bhzQu8myRz"
   },
   "outputs": [],
   "source": [
    "import pandas as pd\n",
    "import json\n",
    "!pip install langchain --upgrade"
   ]
  },
  {
   "cell_type": "code",
   "execution_count": 7,
   "metadata": {
    "colab": {
     "base_uri": "https://localhost:8080/"
    },
    "execution": {
     "iopub.execute_input": "2024-01-29T06:34:51.639194Z",
     "iopub.status.busy": "2024-01-29T06:34:51.638805Z",
     "iopub.status.idle": "2024-01-29T06:34:53.348559Z",
     "shell.execute_reply": "2024-01-29T06:34:53.347430Z",
     "shell.execute_reply.started": "2024-01-29T06:34:51.639170Z"
    },
    "id": "qCEUdZv-AXpG",
    "outputId": "bc63d541-0908-4c44-989b-18fb3c0559b6"
   },
   "outputs": [
    {
     "name": "stdout",
     "output_type": "stream",
     "text": [
      "Token will not been saved to git credential helper. Pass `add_to_git_credential=True` if you want to set the git credential as well.\n",
      "Token is valid (permission: write).\n",
      "Your token has been saved to /Users/harshul/.cache/huggingface/token\n",
      "Login successful\n"
     ]
    }
   ],
   "source": [
    "from huggingface_hub import login\n",
    "login()"
   ]
  },
  {
   "cell_type": "code",
   "execution_count": 9,
   "metadata": {
    "colab": {
     "base_uri": "https://localhost:8080/",
     "height": 49,
     "referenced_widgets": [
      "a1f241e33f5441578f2d7c4c6aeb4292",
      "44b0a7e740114e6c806976e2991a5d02",
      "e0a6f09f5f644b61be2e623e28f34df7",
      "a12e8e1f368d4d078b692b62cbe6dce8",
      "e89232ef50de488097eaba25ab20c75a",
      "aad440ea96404ce7a1d9160b78700273",
      "4ce47d3b62744e74899eafd1bc7b7b58",
      "2a328410f00643968013fd7a57c8c7c1",
      "29f98fa1afe84606aa06f1044f99fbf3",
      "2456dc5534c048eba4a9422cfe7e7005",
      "7ab8047ae23c4952afb472d02f1deb2a"
     ]
    },
    "execution": {
     "iopub.execute_input": "2024-01-29T06:35:11.610574Z",
     "iopub.status.busy": "2024-01-29T06:35:11.610190Z",
     "iopub.status.idle": "2024-01-29T06:41:43.017921Z",
     "shell.execute_reply": "2024-01-29T06:41:43.016749Z",
     "shell.execute_reply.started": "2024-01-29T06:35:11.610535Z"
    },
    "id": "ty1a6FgJEoMM",
    "outputId": "3c208181-84cf-4ff0-da23-bf56d957c6e9"
   },
   "outputs": [],
   "source": [
    "# import torch\n",
    "# from langchain import HuggingFacePipeline\n",
    "# from transformers import AutoModelForCausalLM, AutoTokenizer, GenerationConfig, pipeline\n",
    "\n",
    "# #MODEL_NAME = \"mistralai/Mistral-7B-v0.1\"\n",
    "# MODEL_NAME = \"meta-llama/Llama-2-7b-chat-hf\"\n",
    "# tokenizer = AutoTokenizer.from_pretrained(MODEL_NAME, use_fast=True)\n",
    "\n",
    "# model = AutoModelForCausalLM.from_pretrained(\n",
    "#     MODEL_NAME, torch_dtype=torch.float16, trust_remote_code=True, device_map=\"auto\"\n",
    "# )\n",
    "\n",
    "# generation_config = GenerationConfig.from_pretrained(MODEL_NAME)\n",
    "# generation_config.max_new_tokens = 1024\n",
    "# generation_config.temperature = 0.0001\n",
    "# generation_config.top_p = 0.95\n",
    "# generation_config.do_sample = True\n",
    "# generation_config.repetition_penalty = 1.15\n",
    "\n",
    "# text_pipeline = pipeline(\n",
    "#     \"text-generation\",\n",
    "#     model=model,\n",
    "#     tokenizer=tokenizer,\n",
    "#     return_full_text=True,\n",
    "#     generation_config=generation_config,\n",
    "# )\n",
    "\n",
    "# llm = HuggingFacePipeline(pipeline=text_pipeline, model_kwargs={\"temperature\": 0.001})"
   ]
  },
  {
   "cell_type": "code",
   "execution_count": 10,
   "metadata": {
    "execution": {
     "iopub.execute_input": "2024-01-29T06:41:43.022792Z",
     "iopub.status.busy": "2024-01-29T06:41:43.022170Z",
     "iopub.status.idle": "2024-01-29T06:41:43.027335Z",
     "shell.execute_reply": "2024-01-29T06:41:43.026374Z",
     "shell.execute_reply.started": "2024-01-29T06:41:43.022760Z"
    }
   },
   "outputs": [],
   "source": [
    "from langchain.llms import Ollama\n",
    "\n",
    "llm = Ollama(model=\"mistral:instruct\")"
   ]
  },
  {
   "cell_type": "code",
   "execution_count": 11,
   "metadata": {
    "execution": {
     "iopub.execute_input": "2024-01-29T06:41:43.029209Z",
     "iopub.status.busy": "2024-01-29T06:41:43.028902Z",
     "iopub.status.idle": "2024-01-29T06:41:43.041188Z",
     "shell.execute_reply": "2024-01-29T06:41:43.040115Z",
     "shell.execute_reply.started": "2024-01-29T06:41:43.029181Z"
    }
   },
   "outputs": [
    {
     "name": "stdout",
     "output_type": "stream",
     "text": [
      "\u001b[1mOllama\u001b[0m\n",
      "Params: {}\n"
     ]
    }
   ],
   "source": [
    "print(llm)"
   ]
  },
  {
   "cell_type": "code",
   "execution_count": 14,
   "metadata": {
    "execution": {
     "iopub.execute_input": "2024-01-29T06:41:53.640942Z",
     "iopub.status.busy": "2024-01-29T06:41:53.640677Z",
     "iopub.status.idle": "2024-01-29T06:41:53.646195Z",
     "shell.execute_reply": "2024-01-29T06:41:53.645100Z",
     "shell.execute_reply.started": "2024-01-29T06:41:53.640910Z"
    },
    "id": "6wTwidj4j3Xm"
   },
   "outputs": [],
   "source": [
    "from langchain import PromptTemplate\n",
    "\n",
    "template = \"\"\"\n",
    "<s>[INST] <<SYS>>\n",
    "For a given user post sentence, does it show signs of the symptom. Answer in binary \"yes\" or \"no\", for every symptom. The symptoms are as follows:\n",
    "[Feeling nervous, anxious, or on edge, Not being able to stop or control worrying, Worrying too much about different things, Trouble relaxing, Being so restless that it is hard to sit still, Becoming easily annoyed or irritable, Feeling afraid, as if something awful\n",
    "might happen] .\n",
    "\n",
    "Give the output as a python list of lists, with the list containing the symptom and the answer, separated by a comma.\n",
    "{text}:\n",
    "<</SYS>>\n",
    "\n",
    "{text} [/INST]\n",
    "\"\"\"\n",
    "\n",
    "prompt = PromptTemplate(\n",
    "    input_variables=[\"text\"],\n",
    "    template=template,\n",
    ")"
   ]
  },
  {
   "cell_type": "code",
   "execution_count": 19,
   "metadata": {
    "execution": {
     "iopub.execute_input": "2024-01-29T06:41:53.694678Z",
     "iopub.status.busy": "2024-01-29T06:41:53.694398Z",
     "iopub.status.idle": "2024-01-29T06:41:55.756915Z",
     "shell.execute_reply": "2024-01-29T06:41:55.755782Z",
     "shell.execute_reply.started": "2024-01-29T06:41:53.694654Z"
    },
    "id": "uQRXEVf-OQUo"
   },
   "outputs": [],
   "source": [
    "from langchain.prompts.few_shot import FewShotPromptTemplate\n",
    "from langchain.prompts.prompt import PromptTemplate\n",
    "#from langchain.chains import SequentialDocumentsChain, LLMChain\n",
    "from langchain.chains import LLMChain\n",
    "examples = [\n",
    "  {\n",
    "    \"question\": \"\"\"\n",
    "    I’ve been at February vacation away from school  this year and I can’t help but feel I’ve been wasting it. I’ve done nothing of note, not even watching a movie or going to the grocery store, the only times I’ve left my house are for sports practice which I **dread** and just despise. \n",
    "\n",
    "I think it’s been a long time coming but in the past few hours I’ve felt myself slipping in again to the pot of despair where I’m more irritated, testy, emotional and numb, and moody, and overall a pit in my stomach forms that I have to live through. They’ve happened more and more and for longer durations since I began  taking meds and therapy. \n",
    "\n",
    "Any advice at all on how to buffer this dread and flare of depression would be greatly appreciated, I can already feel myself sliding into it and just about all advice is appreciated.\n",
    "\"\"\",\n",
    "    \"answer\":\n",
    "\"\"\"\n",
    "[\n",
    "          [\n",
    "            \"Feeling-nervous,-anxious,-or-on-edge \",\n",
    "            \"yes\"\n",
    "          ],\n",
    "          [\n",
    "            \"Not-being-able-to-stop-or-control-worrying\",\n",
    "            \"yes\"\n",
    "          ],\n",
    "          [\n",
    "            \"Worrying-too-much-about-different-things\",\n",
    "            \"yes\"\n",
    "          ],\n",
    "          [\n",
    "            \"Trouble-relaxing\",\n",
    "            \"no\"\n",
    "          ],\n",
    "          [\n",
    "            \"Being-so-restless-that-it-is-hard-to-sit-still\",\n",
    "            \"no\"\n",
    "          ],\n",
    "          [\n",
    "            \"Becoming-easily-annoyed-or-irritable\",\n",
    "            \"yes\"\n",
    "          ],\n",
    "          [\n",
    "            \"Feeling-afraid,-as-if-something-awful-might-happen-soon\",\n",
    "            \"yes\"\n",
    "          ]\n",
    "        ]\n",
    "\"\"\"\n",
    "  },\n",
    "  {\n",
    "    \"question\": \"\"\"\n",
    "    When I'm sober I feel depressed, anxious, and sad at all times. Maybe sometimes I feel a little happiness or excitement on top of it all, but it last minutes, if not seconds.\n",
    "\n",
    "I'm currently intoxicated and remembered briefly what I normally feel, thus my question. \n",
    "\n",
    "When I'm drunk or especially drunk AND high (weed) I feel so much better. I'm happy in the moment because I simply can't remember what I'm not happy about. Are there any negatives to being drunk and/or high at all times, other than while I'm working? Any reason to be sober?\n",
    "\n",
    "I ask only because I can easily manage to be drunk and/or high on a very regular basis and I feel better than I have in months.\n",
    "    \"\"\",\n",
    "    \"answer\":\n",
    "\"\"\"\n",
    "[\n",
    "          [\n",
    "            \"Feeling-nervous,-anxious,-or-on-edge \",\n",
    "            \"yes\"\n",
    "          ],\n",
    "          [\n",
    "            \"Not-being-able-to-stop-or-control-worrying\",\n",
    "            \"yes\"\n",
    "          ],\n",
    "          [\n",
    "            \"Worrying-too-much-about-different-things\",\n",
    "            \"yes\"\n",
    "          ],\n",
    "          [\n",
    "            \"Trouble-relaxing\",\n",
    "            \"no\"\n",
    "          ],\n",
    "          [\n",
    "            \"Being-so-restless-that-it-is-hard-to-sit-still\",\n",
    "            \"no\"\n",
    "          ],\n",
    "          [\n",
    "            \"Becoming-easily-annoyed-or-irritable\",\n",
    "            \"no\"\n",
    "          ],\n",
    "          [\n",
    "            \"Feeling-afraid,-as-if-something-awful-might-happen-soon\",\n",
    "            \"no\"\n",
    "          ]\n",
    "        ]\n",
    "\n",
    "\n",
    "\"\"\"\n",
    "  }\n",
    "]"
   ]
  },
  {
   "cell_type": "code",
   "execution_count": 20,
   "metadata": {
    "execution": {
     "iopub.execute_input": "2024-01-29T06:41:55.762012Z",
     "iopub.status.busy": "2024-01-29T06:41:55.761181Z",
     "iopub.status.idle": "2024-01-29T06:41:55.777845Z",
     "shell.execute_reply": "2024-01-29T06:41:55.776420Z",
     "shell.execute_reply.started": "2024-01-29T06:41:55.761971Z"
    }
   },
   "outputs": [
    {
     "name": "stdout",
     "output_type": "stream",
     "text": [
      "For a given user post sentence, does it show signs of the symptom. Answer in binary \"yes\" or \"no\", for every symptom. The symptoms are as follows:\n",
      "[Feeling nervous, anxious, or on edge, Not being able to stop or control worrying, Worrying too much about different things, Trouble relaxing, Being so restless that it is hard to sit still, Becoming easily annoyed or irritable, Feeling afraid, as if something awful\n",
      "might happen] .\n",
      "\n",
      "Give the output as a python list of lists, with the list containing the symptom and the answer, separated by a comma. \n",
      " Question: \n",
      "    I’ve been at February vacation away from school  this year and I can’t help but feel I’ve been wasting it. I’ve done nothing of note, not even watching a movie or going to the grocery store, the only times I’ve left my house are for sports practice which I **dread** and just despise. \n",
      "\n",
      "I think it’s been a long time coming but in the past few hours I’ve felt myself slipping in again to the pot of despair where I’m more irritated, testy, emotional and numb, and moody, and overall a pit in my stomach forms that I have to live through. They’ve happened more and more and for longer durations since I began  taking meds and therapy. \n",
      "\n",
      "Any advice at all on how to buffer this dread and flare of depression would be greatly appreciated, I can already feel myself sliding into it and just about all advice is appreciated.\n",
      "\n",
      "\n",
      "[\n",
      "          [\n",
      "            \"Feeling-nervous,-anxious,-or-on-edge \",\n",
      "            \"yes\"\n",
      "          ],\n",
      "          [\n",
      "            \"Not-being-able-to-stop-or-control-worrying\",\n",
      "            \"yes\"\n",
      "          ],\n",
      "          [\n",
      "            \"Worrying-too-much-about-different-things\",\n",
      "            \"yes\"\n",
      "          ],\n",
      "          [\n",
      "            \"Trouble-relaxing\",\n",
      "            \"no\"\n",
      "          ],\n",
      "          [\n",
      "            \"Being-so-restless-that-it-is-hard-to-sit-still\",\n",
      "            \"no\"\n",
      "          ],\n",
      "          [\n",
      "            \"Becoming-easily-annoyed-or-irritable\",\n",
      "            \"yes\"\n",
      "          ],\n",
      "          [\n",
      "            \"Feeling-afraid,-as-if-something-awful-might-happen-soon\",\n",
      "            \"yes\"\n",
      "          ]\n",
      "        ]\n",
      "\n"
     ]
    }
   ],
   "source": [
    "example_prompt = PromptTemplate(input_variables=[\"question\", \"answer\"], template= \"\"\"For a given user post sentence, does it show signs of the symptom. Answer in binary \"yes\" or \"no\", for every symptom. The symptoms are as follows:\n",
    "[Feeling nervous, anxious, or on edge, Not being able to stop or control worrying, Worrying too much about different things, Trouble relaxing, Being so restless that it is hard to sit still, Becoming easily annoyed or irritable, Feeling afraid, as if something awful\n",
    "might happen] .\n",
    "\n",
    "Give the output as a python list of lists, with the list containing the symptom and the answer, separated by a comma. \\n Question: {question}\\n{answer}\"\"\")\n",
    "\n",
    "print(example_prompt.format(**examples[0]))"
   ]
  },
  {
   "cell_type": "code",
   "execution_count": 22,
   "metadata": {
    "execution": {
     "iopub.execute_input": "2024-01-29T06:41:55.791062Z",
     "iopub.status.busy": "2024-01-29T06:41:55.790638Z",
     "iopub.status.idle": "2024-01-29T06:41:55.803672Z",
     "shell.execute_reply": "2024-01-29T06:41:55.802861Z",
     "shell.execute_reply.started": "2024-01-29T06:41:55.791023Z"
    }
   },
   "outputs": [],
   "source": [
    "input = \"\"\" My Mum has struggled with severe depression ever since her early teens. She has been on a variety of antidepressants on and off for many years and has attempted suicide (to the best of my knowledge) twice before. She has never kept up with therapy (of any sort) as she doesn\\u2019t believe it works.\\nPreviously when she fell into a depressive state she would become incredibly pessimistic and irritable, withdrawn, sleep long hours - really just your average symptoms of depression.\\n\\nIn recent times (over the last 6 months) her behaviour has escalated to the point where I am deeply concerned that she will attempt suicide again:    \\n\\u2022She doesn\\u2019t socialise. She has always had a small social group but is now not even engaging in the two things she had been keeping up with for years (daily gym and a monthly book club) and refuses to do anything \\u2018new\\u2019 (due to the cost).   \\n\\u2022She hates her job and her co-workers, but will not look for other employment because she considers herself \\u2018too old\\u2019 to get employment elsewhere. Her hatred of her workplace has escalated to the point where she will literally just leave, without advising anyone, and go home to bed. She justifies this as \\u2018they wouldn\\u2019t notice me if i was there anyway\\u2019. Previously she has always had an incredibly strong work ethic, she wouldn\\u2019t miss a day ever!    \\n\\u2022She is unwilling to stay on antidepressants for extended periods. She doesn\\u2019t like that they make her gain weight (~5kgs) OR shes feels that they have \\u2018done their job\\u2019 and stops taking them cold turkey. This particular behaviour has been an ongoing problem for as long as I can remember but now she won\\u2019t even consider making an appointment to get a script.    \\n\\u2022She is sending nasty texts and emails to her siblings and cousins, accusing them of imagined petty insults towards her and reacting disproportionately when they tell her that she is acting inappropriately and needs to seek help, she believes they are just trying to get rid of her. Previously they had a friendly but distant relationship without regular contact.    \\n\\u2022Calling me and my sister at all hours of the day and night in tears (mostly when she is drunk) to \\u2018just talk\\u2019 and keeping us on the phone for literally hours (her last call to me was 4hrs and 42 minutes at 10pm) until she feels \\u2018better\\u2019 or passes out. This occurs approximately twice a week to both of us. Previously we would text regularly and call about every 7-10 days.     \\n\\u2022Refusing to deal with anything concerning her Mothers (my grandma, 88f) increasingly poor health. She started doing this as she suspects that \\u2018people\\u2019 think she is trying to kill Grandma (which is completely unfounded). She had previously been the main point of contact for the local council and doctors for anything related to Grandma\\u2019s care and has had medical power of attorney for abut a decade - a sibling has since taken over responsibility for facilitating Grandmas care as a direct result of her behaviour.    \\n\\u2022She has begun drinking increasingly heavily over the  the last ~2years. Currently she consuming 1-2 bottles of wine most nights, has very recently starting consuming spirts in addition to this. She is routinely drinking to the point where she is passing out in her own vomit. Previously she was only a light social drinker.    \\n\\u2022Frequently making statements such as  \\u2018just wanting to die\\u2019, \\u2018I should just die\\u2019, \\u2018someone should just shoot me\\u2019, \\u2018i\\u2019ll just die\\u2019. This is happening multiple times in the same conversation, it must be adding up to hundreds of instances per day.\\nThere have been many other behaviour changes I have noticed but the ones listed are the ones that are new to her and are alarming me the most.\\n\\nFor further context, she lives alone in a country town, does not have a significant other or any pets and my sister and I both live hours away from her (and have done so for years) as do all her siblings. She has had some major stressors  in her life recently.    \\n\\u2022Obviously Coronavirus has been a big thing, she is an essential worker and has been working the whole time.    \\n\\u2022Her employer has recently sold their business and she is very concerned about her job stability when the new owners take over. -Grandma\\u2019s health has been worsening and Grandma is resisting the idea of going into a care home. Although Mum isn\\u2019t dealing with Grandma\\u2019s care anymore she is still stressed about it.    \\n\\u2022She believes she is getting bullied at work (claims to be getting \\u2018cold-shouldered\\u2019 and that people are hiding her belongings). She has worked there for about 10 years without incident before now and I have not seen any other evidence for this aside from her word (which I do not consider trustworthy in her current state).\\n\\nI have tried to help her by:    \\n\\u2022Convincing her to begin antidepressants again (which she is refusing to do, she will \\u2018get fat again\\u2019).    \\n\\u2022To at least see a therapist (she is refusing to as it \\u2018doesn\\u2019t work\\u2019, also the only counselor in town is one of her cousins who she has been \\u2018fighting\\u2019 with -see above, I asked if she would consider travelling to see someone in another town or even zoom sessions with someone but she still steadfastly refused). I did ensure that she has helpline numbers easily accessible (saved in her mobile, on the fridge and beside all the landlines in the house).    \\n\\u2022Encouraging her to reach out to her friends and have a coffee or meal together (she refuses to ask because she believes they will reject her invite, a \\u2018why bother\\u2019 mentality. She also refuses to go out when they do invite her to things because she \\u2018doesn\\u2019t feel like it\\u2019).   \\n\\u2022Actively making plans with her (which she has always bailed on despite apparent excitement beforehand). I have been in contact with several of her close friends and explained my concerns (which they have shared) and asked if they can make special effort to explicitly include her when getting together (which I know they have as we have been in ongoing contact) but she still has not been engaging.    \\n\\u2022Taking all her calls and trying to (gently) help her see that some of her present mindsets are distorted when she calls (I want her to recognise that she needs help so hopefully she will be open to trying something).    \\n\\u2022Offering to pay dues for any clubs or organisations she would like to try (as she claims she can not afford them). Offering suggestions of free community events she can attend. I also offered to attend with her if she would like (she took this offer as an insult that she needed \\u2018supervision\\u2019).    \\n\\u2022Offering to help her write a resume and cover letter for job applications.\\n\\nLast night she called me in such a state that I drive to her home in the middle of the night (from 5 hours away) because I was sure she was going to harm herself and the local police station was unmanned for the weekend and I was advised that meant they couldn\\u2019t complete a welfare check until Monday morning. I am terrified that she is making an active plan to end her life and that if she attempts it she will probably succeed (the local ambulance response time is a joke and the nearest hospital is over an hour away). I have successfully helped her move through depressive episodes multiple times before but this is different. Both my sister and I am at our wits end and have no idea what else we can be doing or where to turn to. \\n\\nWhat more can we be doing?\\n\\nTLDR: My Mum is depressed and highly likely to be suicidal. I\\u2019ve run out of ways to help, what can I do?\\n\\nlocation: Victoria, Australia \"\"\""
   ]
  },
  {
   "cell_type": "code",
   "execution_count": 23,
   "metadata": {
    "execution": {
     "iopub.execute_input": "2024-01-29T06:41:55.808183Z",
     "iopub.status.busy": "2024-01-29T06:41:55.807468Z",
     "iopub.status.idle": "2024-01-29T06:41:55.819199Z",
     "shell.execute_reply": "2024-01-29T06:41:55.818280Z",
     "shell.execute_reply.started": "2024-01-29T06:41:55.808154Z"
    }
   },
   "outputs": [
    {
     "name": "stdout",
     "output_type": "stream",
     "text": [
      " My Mum has struggled with severe depression ever since her early teens. She has been on a variety of antidepressants on and off for many years and has attempted suicide (to the best of my knowledge) twice before. She has never kept up with therapy (of any sort) as she doesn't believe it works. Previously when she fell into a depressive state she would become incredibly pessimistic and irritable, withdrawn, sleep long hours - really just your average symptoms of depression.  In recent times (over the last 6 months) her behaviour has escalated to the point where I am deeply concerned that she will attempt suicide again:     •She doesn't socialise. She has always had a small social group but is now not even engaging in the two things she had been keeping up with for years (daily gym and a monthly book club) and refuses to do anything ‘new' (due to the cost).    •She hates her job and her co-workers, but will not look for other employment because she considers herself ‘too old' to get employment elsewhere. Her hatred of her workplace has escalated to the point where she will literally just leave, without advising anyone, and go home to bed. She justifies this as ‘they wouldn't notice me if i was there anyway'. Previously she has always had an incredibly strong work ethic, she wouldn't miss a day ever!     •She is unwilling to stay on antidepressants for extended periods. She doesn't like that they make her gain weight (~5kgs) OR shes feels that they have ‘done their job' and stops taking them cold turkey. This particular behaviour has been an ongoing problem for as long as I can remember but now she won't even consider making an appointment to get a script.     •She is sending nasty texts and emails to her siblings and cousins, accusing them of imagined petty insults towards her and reacting disproportionately when they tell her that she is acting inappropriately and needs to seek help, she believes they are just trying to get rid of her. Previously they had a friendly but distant relationship without regular contact.     •Calling me and my sister at all hours of the day and night in tears (mostly when she is drunk) to ‘just talk' and keeping us on the phone for literally hours (her last call to me was 4hrs and 42 minutes at 10pm) until she feels ‘better' or passes out. This occurs approximately twice a week to both of us. Previously we would text regularly and call about every 7-10 days.      •Refusing to deal with anything concerning her Mothers (my grandma, 88f) increasingly poor health. She started doing this as she suspects that ‘people' think she is trying to kill Grandma (which is completely unfounded). She had previously been the main point of contact for the local council and doctors for anything related to Grandma's care and has had medical power of attorney for abut a decade - a sibling has since taken over responsibility for facilitating Grandmas care as a direct result of her behaviour.     •She has begun drinking increasingly heavily over the  the last ~2years. Currently she consuming 1-2 bottles of wine most nights, has very recently starting consuming spirts in addition to this. She is routinely drinking to the point where she is passing out in her own vomit. Previously she was only a light social drinker.     •Frequently making statements such as  ‘just wanting to die', ‘I should just die', ‘someone should just shoot me', ‘i'll just die'. This is happening multiple times in the same conversation, it must be adding up to hundreds of instances per day. There have been many other behaviour changes I have noticed but the ones listed are the ones that are new to her and are alarming me the most.  For further context, she lives alone in a country town, does not have a significant other or any pets and my sister and I both live hours away from her (and have done so for years) as do all her siblings. She has had some major stressors  in her life recently.     •Obviously Coronavirus has been a big thing, she is an essential worker and has been working the whole time.     •Her employer has recently sold their business and she is very concerned about her job stability when the new owners take over. -Grandma's health has been worsening and Grandma is resisting the idea of going into a care home. Although Mum isn't dealing with Grandma's care anymore she is still stressed about it.     •She believes she is getting bullied at work (claims to be getting ‘cold-shouldered' and that people are hiding her belongings). She has worked there for about 10 years without incident before now and I have not seen any other evidence for this aside from her word (which I do not consider trustworthy in her current state).  I have tried to help her by:     •Convincing her to begin antidepressants again (which she is refusing to do, she will ‘get fat again').     •To at least see a therapist (she is refusing to as it ‘doesn't work', also the only counselor in town is one of her cousins who she has been ‘fighting' with -see above, I asked if she would consider travelling to see someone in another town or even zoom sessions with someone but she still steadfastly refused). I did ensure that she has helpline numbers easily accessible (saved in her mobile, on the fridge and beside all the landlines in the house).     •Encouraging her to reach out to her friends and have a coffee or meal together (she refuses to ask because she believes they will reject her invite, a ‘why bother' mentality. She also refuses to go out when they do invite her to things because she ‘doesn't feel like it').    •Actively making plans with her (which she has always bailed on despite apparent excitement beforehand). I have been in contact with several of her close friends and explained my concerns (which they have shared) and asked if they can make special effort to explicitly include her when getting together (which I know they have as we have been in ongoing contact) but she still has not been engaging.     •Taking all her calls and trying to (gently) help her see that some of her present mindsets are distorted when she calls (I want her to recognise that she needs help so hopefully she will be open to trying something).     •Offering to pay dues for any clubs or organisations she would like to try (as she claims she can not afford them). Offering suggestions of free community events she can attend. I also offered to attend with her if she would like (she took this offer as an insult that she needed ‘supervision').     •Offering to help her write a resume and cover letter for job applications.  Last night she called me in such a state that I drive to her home in the middle of the night (from 5 hours away) because I was sure she was going to harm herself and the local police station was unmanned for the weekend and I was advised that meant they couldn't complete a welfare check until Monday morning. I am terrified that she is making an active plan to end her life and that if she attempts it she will probably succeed (the local ambulance response time is a joke and the nearest hospital is over an hour away). I have successfully helped her move through depressive episodes multiple times before but this is different. Both my sister and I am at our wits end and have no idea what else we can be doing or where to turn to.   What more can we be doing?  TLDR: My Mum is depressed and highly likely to be suicidal. I've run out of ways to help, what can I do?  location: Victoria, Australia \n"
     ]
    }
   ],
   "source": [
    "input = input.replace(\"\\n\",\" \")\n",
    "input = input.replace(\"\\u2019\", \"'\")\n",
    "print(input)"
   ]
  },
  {
   "cell_type": "code",
   "execution_count": 24,
   "metadata": {
    "execution": {
     "iopub.execute_input": "2024-01-29T06:41:55.821209Z",
     "iopub.status.busy": "2024-01-29T06:41:55.820551Z",
     "iopub.status.idle": "2024-01-29T06:41:55.835797Z",
     "shell.execute_reply": "2024-01-29T06:41:55.834902Z",
     "shell.execute_reply.started": "2024-01-29T06:41:55.821181Z"
    }
   },
   "outputs": [
    {
     "name": "stdout",
     "output_type": "stream",
     "text": [
      "For a given user post sentence, does it show signs of the symptom. Answer in binary \"yes\" or \"no\", for every symptom. The symptoms are as follows:\n",
      "[Feeling nervous, anxious, or on edge, Not being able to stop or control worrying, Worrying too much about different things, Trouble relaxing, Being so restless that it is hard to sit still, Becoming easily annoyed or irritable, Feeling afraid, as if something awful\n",
      "might happen] .\n",
      "\n",
      "Give the output as a python list of lists, with the list containing the symptom and the answer, separated by a comma. \n",
      " Question: \n",
      "    I’ve been at February vacation away from school  this year and I can’t help but feel I’ve been wasting it. I’ve done nothing of note, not even watching a movie or going to the grocery store, the only times I’ve left my house are for sports practice which I **dread** and just despise. \n",
      "\n",
      "I think it’s been a long time coming but in the past few hours I’ve felt myself slipping in again to the pot of despair where I’m more irritated, testy, emotional and numb, and moody, and overall a pit in my stomach forms that I have to live through. They’ve happened more and more and for longer durations since I began  taking meds and therapy. \n",
      "\n",
      "Any advice at all on how to buffer this dread and flare of depression would be greatly appreciated, I can already feel myself sliding into it and just about all advice is appreciated.\n",
      "\n",
      "\n",
      "[\n",
      "          [\n",
      "            \"Feeling-nervous,-anxious,-or-on-edge \",\n",
      "            \"yes\"\n",
      "          ],\n",
      "          [\n",
      "            \"Not-being-able-to-stop-or-control-worrying\",\n",
      "            \"yes\"\n",
      "          ],\n",
      "          [\n",
      "            \"Worrying-too-much-about-different-things\",\n",
      "            \"yes\"\n",
      "          ],\n",
      "          [\n",
      "            \"Trouble-relaxing\",\n",
      "            \"no\"\n",
      "          ],\n",
      "          [\n",
      "            \"Being-so-restless-that-it-is-hard-to-sit-still\",\n",
      "            \"no\"\n",
      "          ],\n",
      "          [\n",
      "            \"Becoming-easily-annoyed-or-irritable\",\n",
      "            \"yes\"\n",
      "          ],\n",
      "          [\n",
      "            \"Feeling-afraid,-as-if-something-awful-might-happen-soon\",\n",
      "            \"yes\"\n",
      "          ]\n",
      "        ]\n",
      "\n",
      "\n",
      "For a given user post sentence, does it show signs of the symptom. Answer in binary \"yes\" or \"no\", for every symptom. The symptoms are as follows:\n",
      "[Feeling nervous, anxious, or on edge, Not being able to stop or control worrying, Worrying too much about different things, Trouble relaxing, Being so restless that it is hard to sit still, Becoming easily annoyed or irritable, Feeling afraid, as if something awful\n",
      "might happen] .\n",
      "\n",
      "Give the output as a python list of lists, with the list containing the symptom and the answer, separated by a comma. \n",
      " Question: \n",
      "    When I'm sober I feel depressed, anxious, and sad at all times. Maybe sometimes I feel a little happiness or excitement on top of it all, but it last minutes, if not seconds.\n",
      "\n",
      "I'm currently intoxicated and remembered briefly what I normally feel, thus my question. \n",
      "\n",
      "When I'm drunk or especially drunk AND high (weed) I feel so much better. I'm happy in the moment because I simply can't remember what I'm not happy about. Are there any negatives to being drunk and/or high at all times, other than while I'm working? Any reason to be sober?\n",
      "\n",
      "I ask only because I can easily manage to be drunk and/or high on a very regular basis and I feel better than I have in months.\n",
      "    \n",
      "\n",
      "[\n",
      "          [\n",
      "            \"Feeling-nervous,-anxious,-or-on-edge \",\n",
      "            \"yes\"\n",
      "          ],\n",
      "          [\n",
      "            \"Not-being-able-to-stop-or-control-worrying\",\n",
      "            \"yes\"\n",
      "          ],\n",
      "          [\n",
      "            \"Worrying-too-much-about-different-things\",\n",
      "            \"yes\"\n",
      "          ],\n",
      "          [\n",
      "            \"Trouble-relaxing\",\n",
      "            \"no\"\n",
      "          ],\n",
      "          [\n",
      "            \"Being-so-restless-that-it-is-hard-to-sit-still\",\n",
      "            \"no\"\n",
      "          ],\n",
      "          [\n",
      "            \"Becoming-easily-annoyed-or-irritable\",\n",
      "            \"no\"\n",
      "          ],\n",
      "          [\n",
      "            \"Feeling-afraid,-as-if-something-awful-might-happen-soon\",\n",
      "            \"no\"\n",
      "          ]\n",
      "        ]\n",
      "\n",
      "\n",
      "\n",
      "\n",
      "Question:  My Mum has struggled with severe depression ever since her early teens. She has been on a variety of antidepressants on and off for many years and has attempted suicide (to the best of my knowledge) twice before. She has never kept up with therapy (of any sort) as she doesn't believe it works. Previously when she fell into a depressive state she would become incredibly pessimistic and irritable, withdrawn, sleep long hours - really just your average symptoms of depression.  In recent times (over the last 6 months) her behaviour has escalated to the point where I am deeply concerned that she will attempt suicide again:     •She doesn't socialise. She has always had a small social group but is now not even engaging in the two things she had been keeping up with for years (daily gym and a monthly book club) and refuses to do anything ‘new' (due to the cost).    •She hates her job and her co-workers, but will not look for other employment because she considers herself ‘too old' to get employment elsewhere. Her hatred of her workplace has escalated to the point where she will literally just leave, without advising anyone, and go home to bed. She justifies this as ‘they wouldn't notice me if i was there anyway'. Previously she has always had an incredibly strong work ethic, she wouldn't miss a day ever!     •She is unwilling to stay on antidepressants for extended periods. She doesn't like that they make her gain weight (~5kgs) OR shes feels that they have ‘done their job' and stops taking them cold turkey. This particular behaviour has been an ongoing problem for as long as I can remember but now she won't even consider making an appointment to get a script.     •She is sending nasty texts and emails to her siblings and cousins, accusing them of imagined petty insults towards her and reacting disproportionately when they tell her that she is acting inappropriately and needs to seek help, she believes they are just trying to get rid of her. Previously they had a friendly but distant relationship without regular contact.     •Calling me and my sister at all hours of the day and night in tears (mostly when she is drunk) to ‘just talk' and keeping us on the phone for literally hours (her last call to me was 4hrs and 42 minutes at 10pm) until she feels ‘better' or passes out. This occurs approximately twice a week to both of us. Previously we would text regularly and call about every 7-10 days.      •Refusing to deal with anything concerning her Mothers (my grandma, 88f) increasingly poor health. She started doing this as she suspects that ‘people' think she is trying to kill Grandma (which is completely unfounded). She had previously been the main point of contact for the local council and doctors for anything related to Grandma's care and has had medical power of attorney for abut a decade - a sibling has since taken over responsibility for facilitating Grandmas care as a direct result of her behaviour.     •She has begun drinking increasingly heavily over the  the last ~2years. Currently she consuming 1-2 bottles of wine most nights, has very recently starting consuming spirts in addition to this. She is routinely drinking to the point where she is passing out in her own vomit. Previously she was only a light social drinker.     •Frequently making statements such as  ‘just wanting to die', ‘I should just die', ‘someone should just shoot me', ‘i'll just die'. This is happening multiple times in the same conversation, it must be adding up to hundreds of instances per day. There have been many other behaviour changes I have noticed but the ones listed are the ones that are new to her and are alarming me the most.  For further context, she lives alone in a country town, does not have a significant other or any pets and my sister and I both live hours away from her (and have done so for years) as do all her siblings. She has had some major stressors  in her life recently.     •Obviously Coronavirus has been a big thing, she is an essential worker and has been working the whole time.     •Her employer has recently sold their business and she is very concerned about her job stability when the new owners take over. -Grandma's health has been worsening and Grandma is resisting the idea of going into a care home. Although Mum isn't dealing with Grandma's care anymore she is still stressed about it.     •She believes she is getting bullied at work (claims to be getting ‘cold-shouldered' and that people are hiding her belongings). She has worked there for about 10 years without incident before now and I have not seen any other evidence for this aside from her word (which I do not consider trustworthy in her current state).  I have tried to help her by:     •Convincing her to begin antidepressants again (which she is refusing to do, she will ‘get fat again').     •To at least see a therapist (she is refusing to as it ‘doesn't work', also the only counselor in town is one of her cousins who she has been ‘fighting' with -see above, I asked if she would consider travelling to see someone in another town or even zoom sessions with someone but she still steadfastly refused). I did ensure that she has helpline numbers easily accessible (saved in her mobile, on the fridge and beside all the landlines in the house).     •Encouraging her to reach out to her friends and have a coffee or meal together (she refuses to ask because she believes they will reject her invite, a ‘why bother' mentality. She also refuses to go out when they do invite her to things because she ‘doesn't feel like it').    •Actively making plans with her (which she has always bailed on despite apparent excitement beforehand). I have been in contact with several of her close friends and explained my concerns (which they have shared) and asked if they can make special effort to explicitly include her when getting together (which I know they have as we have been in ongoing contact) but she still has not been engaging.     •Taking all her calls and trying to (gently) help her see that some of her present mindsets are distorted when she calls (I want her to recognise that she needs help so hopefully she will be open to trying something).     •Offering to pay dues for any clubs or organisations she would like to try (as she claims she can not afford them). Offering suggestions of free community events she can attend. I also offered to attend with her if she would like (she took this offer as an insult that she needed ‘supervision').     •Offering to help her write a resume and cover letter for job applications.  Last night she called me in such a state that I drive to her home in the middle of the night (from 5 hours away) because I was sure she was going to harm herself and the local police station was unmanned for the weekend and I was advised that meant they couldn't complete a welfare check until Monday morning. I am terrified that she is making an active plan to end her life and that if she attempts it she will probably succeed (the local ambulance response time is a joke and the nearest hospital is over an hour away). I have successfully helped her move through depressive episodes multiple times before but this is different. Both my sister and I am at our wits end and have no idea what else we can be doing or where to turn to.   What more can we be doing?  TLDR: My Mum is depressed and highly likely to be suicidal. I've run out of ways to help, what can I do?  location: Victoria, Australia \n"
     ]
    }
   ],
   "source": [
    "few_shot_prompt = FewShotPromptTemplate(\n",
    "    examples=examples,\n",
    "    example_prompt=example_prompt,\n",
    "    suffix=\"Question: {input}\",\n",
    "    input_variables=[\"input\"]\n",
    ")\n",
    "\n",
    "print(few_shot_prompt.format(input=input))"
   ]
  },
  {
   "cell_type": "code",
   "execution_count": 25,
   "metadata": {
    "execution": {
     "iopub.execute_input": "2024-01-29T06:41:55.837456Z",
     "iopub.status.busy": "2024-01-29T06:41:55.837077Z",
     "iopub.status.idle": "2024-01-29T06:42:56.174544Z",
     "shell.execute_reply": "2024-01-29T06:42:56.173371Z",
     "shell.execute_reply.started": "2024-01-29T06:41:55.837420Z"
    },
    "id": "7_eJ7-t6A0ip"
   },
   "outputs": [
    {
     "name": "stderr",
     "output_type": "stream",
     "text": [
      "/Users/harshul/.pyenv/versions/3.9.4/lib/python3.9/site-packages/langchain_core/_api/deprecation.py:117: LangChainDeprecationWarning: The function `__call__` was deprecated in LangChain 0.1.7 and will be removed in 0.2.0. Use invoke instead.\n",
      "  warn_deprecated(\n"
     ]
    },
    {
     "name": "stdout",
     "output_type": "stream",
     "text": [
      " I'm really sorry to hear about your mother's situation and the concern you have for her well-being. Here are some suggestions that might be helpful:\n",
      "\n",
      "1. Encourage professional help: It's important to emphasize the importance of getting professional help. You can suggest contacting a doctor or mental health professional for an evaluation and prescription of antidepressants if she is refusing. If she is unwilling to see a therapist, you could suggest looking into online therapy options.\n",
      "2. Create a safety plan: Given her suicidal thoughts, it's crucial to create a safety plan. Encourage her to make a list of people she can contact when she feels suicidal, including emergency services, hotlines, and trusted friends or family members. Encourage her to keep this list easily accessible and to share it with you as well.\n",
      "3. Reach out to her workplace: Consider reaching out to her employer to discuss the situation and see if there are any accommodations that can be made to help her feel more supported and secure in her job. You may also want to explore options for disability leave or other types of leave that could give her a break from work stressors.\n",
      "4. Seek support for yourself: Caring for a loved one with mental health struggles can be emotionally taxing, so it's important to take care of yourself as well. Consider reaching out to support groups, therapists, or friends and family members to talk about your concerns and get emotional support.\n",
      "5. Encourage healthy coping mechanisms: Help her explore healthy coping mechanisms for dealing with stress and negative emotions, such as exercise, hobbies, meditation, or journaling. Encourage her to practice mindfulness techniques and engage in activities that bring joy and pleasure.\n",
      "6. Create a routine: Help her establish a daily routine that includes regular meals, exercise, and time for relaxation and self-care. You may want to help her create a schedule or calendar to keep track of appointments, deadlines, and other important dates.\n",
      "7. Encourage social connections: Encourage her to reach out to friends and family members and engage in social activities that bring joy and connection. If she is struggling with this, consider exploring online communities or support groups where she can connect with others who are going through similar experiences.\n",
      "8. Consider involving emergency services: If you are genuinely worried about her safety, it may be necessary to involve emergency services for a welfare check. This can give her the help and support she needs to get through this difficult time.\n"
     ]
    }
   ],
   "source": [
    "result = llm(prompt.format(text=input))\n",
    "print(result)"
   ]
  },
  {
   "cell_type": "code",
   "execution_count": 26,
   "metadata": {
    "execution": {
     "iopub.execute_input": "2024-01-29T06:42:56.176127Z",
     "iopub.status.busy": "2024-01-29T06:42:56.175781Z",
     "iopub.status.idle": "2024-01-29T06:42:56.181021Z",
     "shell.execute_reply": "2024-01-29T06:42:56.179842Z",
     "shell.execute_reply.started": "2024-01-29T06:42:56.176098Z"
    },
    "id": "nnSDi7ucZf4J"
   },
   "outputs": [],
   "source": [
    "from langchain.chains import LLMChain\n",
    "\n",
    "# chain = LLMChain(llm=llm, prompt=prompt)"
   ]
  },
  {
   "cell_type": "code",
   "execution_count": 27,
   "metadata": {
    "execution": {
     "iopub.execute_input": "2024-01-29T06:42:56.183007Z",
     "iopub.status.busy": "2024-01-29T06:42:56.182536Z",
     "iopub.status.idle": "2024-01-29T06:42:56.194980Z",
     "shell.execute_reply": "2024-01-29T06:42:56.193815Z",
     "shell.execute_reply.started": "2024-01-29T06:42:56.182965Z"
    },
    "id": "BLU2L1UJjx0V"
   },
   "outputs": [],
   "source": [
    "# %%time\n",
    "# result = chain.run(text)\n",
    "# print(result)"
   ]
  },
  {
   "cell_type": "markdown",
   "metadata": {
    "id": "_RD5Upi-oi32"
   },
   "source": [
    "## Chaining Chains"
   ]
  },
  {
   "cell_type": "code",
   "execution_count": 29,
   "metadata": {
    "execution": {
     "iopub.execute_input": "2024-01-29T06:42:56.210576Z",
     "iopub.status.busy": "2024-01-29T06:42:56.210239Z",
     "iopub.status.idle": "2024-01-29T06:42:56.220919Z",
     "shell.execute_reply": "2024-01-29T06:42:56.219857Z",
     "shell.execute_reply.started": "2024-01-29T06:42:56.210550Z"
    }
   },
   "outputs": [],
   "source": [
    "examples_chain = LLMChain(llm=llm, prompt=few_shot_prompt)"
   ]
  },
  {
   "cell_type": "code",
   "execution_count": 36,
   "metadata": {
    "execution": {
     "iopub.execute_input": "2024-01-29T06:42:56.293745Z",
     "iopub.status.busy": "2024-01-29T06:42:56.293367Z",
     "iopub.status.idle": "2024-01-29T06:51:54.591672Z",
     "shell.execute_reply": "2024-01-29T06:51:54.590709Z",
     "shell.execute_reply.started": "2024-01-29T06:42:56.293710Z"
    }
   },
   "outputs": [
    {
     "name": "stdout",
     "output_type": "stream",
     "text": [
      "0\n",
      "TITLE: How am I supposed to improve my life when I constantly want to die\n",
      "1\n",
      "TITLE: Should I click yes to give the psychiatrist permission to share my information with one of my parents? What are they gonna share?\n",
      "2\n",
      "TITLE: What would you do in my position?\n",
      "3\n",
      "TITLE: SO says it's depression linked. How to stop being too much?\n",
      "4\n",
      "TITLE: Your experience with SSRI's\n",
      "5\n",
      "TITLE: Two Faced People - Need Advice\n",
      "6\n",
      "TITLE: How can I force myself to do important things when I’m feeling like shit?\n",
      "7\n",
      "TITLE: I feel like i'm loosing my best friend and I don't know what to do\n",
      "8\n",
      "TITLE: I hate myself so much, I don't deserve to live\n",
      "9\n",
      "TITLE: My reward system is fked\n",
      "10\n",
      "TITLE: My dad just threatened me for crying and going to my room and i would really need some kind words\n",
      "11\n",
      "TITLE: Teenager with no hope.\n",
      "12\n",
      "TITLE: I'm really depressed and I want to get help but I don't know what to do\n",
      "13\n",
      "TITLE: What helped you see some hope for your future, and how can I help my friend see even just a glimmer of hope?\n",
      "14\n",
      "TITLE: Placing too much on outside help?\n",
      "15\n",
      "TITLE: My grandma just passed away how do I deal with the loss\n",
      "16\n",
      "TITLE: It's so painful\n",
      "17\n",
      "TITLE: I need help\n",
      "18\n",
      "TITLE: Feeling so down and beating myself up for mistakes\n",
      "19\n",
      "TITLE: How do I make a female partner who's depressed feel better?\n",
      "20\n",
      "TITLE: I feel myself slipping again\n",
      "21\n",
      "TITLE: Should I be drunk all the time?\n",
      "22\n",
      "TITLE: Self-Improvement help\n",
      "23\n",
      "TITLE: Idk how to get out of this funk I’m in\n",
      "24\n",
      "TITLE: Am I ungrateful for not being happy?\n",
      "25\n",
      "TITLE: Looking for success stories from adults who have been depressed most of their lives\n",
      "26\n",
      "TITLE: What is wrong with me? How can I go from content to suicidal in a couple of hours?\n",
      "27\n",
      "TITLE: How can I (28f) help my Mum (56f) who is depressed and considering suicide.\n",
      "28\n",
      "TITLE: No matter what I think I feel like I can't stop myself from suicide\n",
      "29\n",
      "TITLE: I can’t describe what i felt anymore\n",
      "30\n",
      "TITLE: I'm 18F and I don't know if I'm depressed\n",
      "31\n",
      "TITLE: What can I do to stop being a weirdo?\n",
      "32\n",
      "TITLE: Fell back into binge eating, not taking care of myself, oversleeping.. Spiraling.\n",
      "33\n",
      "TITLE: Overthinking is killing me\n",
      "34\n",
      "TITLE: Taking antidepressants or not?\n",
      "35\n",
      "TITLE: am I suicidal even if I know I won't kill myself?\n",
      "36\n",
      "TITLE: My brains are fried...\n",
      "37\n",
      "TITLE: Should I tell my therapist I'm suicidal\n",
      "38\n",
      "TITLE: \"Paying for happiness\" - anyone else?\n",
      "39\n",
      "TITLE: What can I do…\n",
      "SUCCESS\n"
     ]
    }
   ],
   "source": [
    "# with open('/kaggle/input/primate/primate_dataset.json', 'r') as file:\n",
    "#     data = json.load(file)\n",
    "\n",
    "# Initialize lists for columns\n",
    "post_titles = []\n",
    "second_columns = []\n",
    "i=0\n",
    "# Process each entry in the JSON data\n",
    "\n",
    "import pandas as pd\n",
    "df = pd.read_csv('prompt_dataset_primate.csv')\n",
    "\n",
    "for index, row in df.iterrows():\n",
    "    # Extract post_title and post_text\n",
    "    print(index)\n",
    "    post_title = row['Title']\n",
    "    post_text = row['Text']\n",
    "    print(f'TITLE: {post_title}')\n",
    "    #print(f'TEXT: {post_text}')\n",
    "\n",
    "    # Process post_text using the get_ans function\n",
    "    # result = multi_chain.run\n",
    "    #second_column_value = llm(prompt.format(text=post_text))\n",
    "    post_text = post_text.replace(\"\\n\", \" \")\n",
    "    second_column_value = llm(few_shot_prompt.format(input=post_text))\n",
    "\n",
    "    # Append values to lists\n",
    "    post_titles.append(post_title)\n",
    "    second_columns.append(second_column_value)\n",
    "\n",
    "# Create a DataFrame\n",
    "df = pd.DataFrame({'Title': post_titles, 'Output': second_columns})\n",
    "\n",
    "# Write DataFrame to CSV\n",
    "#df.to_csv('abc.csv', index=False)\n",
    "print('SUCCESS')"
   ]
  },
  {
   "cell_type": "code",
   "execution_count": 37,
   "metadata": {
    "execution": {
     "iopub.execute_input": "2024-01-29T07:05:00.193784Z",
     "iopub.status.busy": "2024-01-29T07:05:00.193299Z",
     "iopub.status.idle": "2024-01-29T07:05:00.202907Z",
     "shell.execute_reply": "2024-01-29T07:05:00.201759Z",
     "shell.execute_reply.started": "2024-01-29T07:05:00.193747Z"
    }
   },
   "outputs": [
    {
     "name": "stdout",
     "output_type": "stream",
     "text": [
      "SUCCESS\n"
     ]
    }
   ],
   "source": [
    "# df.to_csv('mistral-gad-fewshot.csv', index=False)\n",
    "# print('SUCCESS')"
   ]
  }
 ],
 "metadata": {
  "accelerator": "GPU",
  "colab": {
   "gpuType": "T4",
   "provenance": []
  },
  "kaggle": {
   "accelerator": "nvidiaTeslaT4",
   "dataSources": [
    {
     "datasetId": 4272037,
     "sourceId": 7355538,
     "sourceType": "datasetVersion"
    },
    {
     "datasetId": 4272787,
     "sourceId": 7356642,
     "sourceType": "datasetVersion"
    }
   ],
   "dockerImageVersionId": 30636,
   "isGpuEnabled": true,
   "isInternetEnabled": true,
   "language": "python",
   "sourceType": "notebook"
  },
  "kernelspec": {
   "display_name": "Python 3 (ipykernel)",
   "language": "python",
   "name": "python3"
  },
  "language_info": {
   "codemirror_mode": {
    "name": "ipython",
    "version": 3
   },
   "file_extension": ".py",
   "mimetype": "text/x-python",
   "name": "python",
   "nbconvert_exporter": "python",
   "pygments_lexer": "ipython3",
   "version": "3.9.4"
  },
  "widgets": {
   "application/vnd.jupyter.widget-state+json": {
    "2456dc5534c048eba4a9422cfe7e7005": {
     "model_module": "@jupyter-widgets/base",
     "model_module_version": "1.2.0",
     "model_name": "LayoutModel",
     "state": {
      "_model_module": "@jupyter-widgets/base",
      "_model_module_version": "1.2.0",
      "_model_name": "LayoutModel",
      "_view_count": null,
      "_view_module": "@jupyter-widgets/base",
      "_view_module_version": "1.2.0",
      "_view_name": "LayoutView",
      "align_content": null,
      "align_items": null,
      "align_self": null,
      "border": null,
      "bottom": null,
      "display": null,
      "flex": null,
      "flex_flow": null,
      "grid_area": null,
      "grid_auto_columns": null,
      "grid_auto_flow": null,
      "grid_auto_rows": null,
      "grid_column": null,
      "grid_gap": null,
      "grid_row": null,
      "grid_template_areas": null,
      "grid_template_columns": null,
      "grid_template_rows": null,
      "height": null,
      "justify_content": null,
      "justify_items": null,
      "left": null,
      "margin": null,
      "max_height": null,
      "max_width": null,
      "min_height": null,
      "min_width": null,
      "object_fit": null,
      "object_position": null,
      "order": null,
      "overflow": null,
      "overflow_x": null,
      "overflow_y": null,
      "padding": null,
      "right": null,
      "top": null,
      "visibility": null,
      "width": null
     }
    },
    "29f98fa1afe84606aa06f1044f99fbf3": {
     "model_module": "@jupyter-widgets/controls",
     "model_module_version": "1.5.0",
     "model_name": "ProgressStyleModel",
     "state": {
      "_model_module": "@jupyter-widgets/controls",
      "_model_module_version": "1.5.0",
      "_model_name": "ProgressStyleModel",
      "_view_count": null,
      "_view_module": "@jupyter-widgets/base",
      "_view_module_version": "1.2.0",
      "_view_name": "StyleView",
      "bar_color": null,
      "description_width": ""
     }
    },
    "2a328410f00643968013fd7a57c8c7c1": {
     "model_module": "@jupyter-widgets/base",
     "model_module_version": "1.2.0",
     "model_name": "LayoutModel",
     "state": {
      "_model_module": "@jupyter-widgets/base",
      "_model_module_version": "1.2.0",
      "_model_name": "LayoutModel",
      "_view_count": null,
      "_view_module": "@jupyter-widgets/base",
      "_view_module_version": "1.2.0",
      "_view_name": "LayoutView",
      "align_content": null,
      "align_items": null,
      "align_self": null,
      "border": null,
      "bottom": null,
      "display": null,
      "flex": null,
      "flex_flow": null,
      "grid_area": null,
      "grid_auto_columns": null,
      "grid_auto_flow": null,
      "grid_auto_rows": null,
      "grid_column": null,
      "grid_gap": null,
      "grid_row": null,
      "grid_template_areas": null,
      "grid_template_columns": null,
      "grid_template_rows": null,
      "height": null,
      "justify_content": null,
      "justify_items": null,
      "left": null,
      "margin": null,
      "max_height": null,
      "max_width": null,
      "min_height": null,
      "min_width": null,
      "object_fit": null,
      "object_position": null,
      "order": null,
      "overflow": null,
      "overflow_x": null,
      "overflow_y": null,
      "padding": null,
      "right": null,
      "top": null,
      "visibility": null,
      "width": null
     }
    },
    "44b0a7e740114e6c806976e2991a5d02": {
     "model_module": "@jupyter-widgets/controls",
     "model_module_version": "1.5.0",
     "model_name": "HTMLModel",
     "state": {
      "_dom_classes": [],
      "_model_module": "@jupyter-widgets/controls",
      "_model_module_version": "1.5.0",
      "_model_name": "HTMLModel",
      "_view_count": null,
      "_view_module": "@jupyter-widgets/controls",
      "_view_module_version": "1.5.0",
      "_view_name": "HTMLView",
      "description": "",
      "description_tooltip": null,
      "layout": "IPY_MODEL_aad440ea96404ce7a1d9160b78700273",
      "placeholder": "​",
      "style": "IPY_MODEL_4ce47d3b62744e74899eafd1bc7b7b58",
      "value": "Loading checkpoint shards: 100%"
     }
    },
    "4ce47d3b62744e74899eafd1bc7b7b58": {
     "model_module": "@jupyter-widgets/controls",
     "model_module_version": "1.5.0",
     "model_name": "DescriptionStyleModel",
     "state": {
      "_model_module": "@jupyter-widgets/controls",
      "_model_module_version": "1.5.0",
      "_model_name": "DescriptionStyleModel",
      "_view_count": null,
      "_view_module": "@jupyter-widgets/base",
      "_view_module_version": "1.2.0",
      "_view_name": "StyleView",
      "description_width": ""
     }
    },
    "7ab8047ae23c4952afb472d02f1deb2a": {
     "model_module": "@jupyter-widgets/controls",
     "model_module_version": "1.5.0",
     "model_name": "DescriptionStyleModel",
     "state": {
      "_model_module": "@jupyter-widgets/controls",
      "_model_module_version": "1.5.0",
      "_model_name": "DescriptionStyleModel",
      "_view_count": null,
      "_view_module": "@jupyter-widgets/base",
      "_view_module_version": "1.2.0",
      "_view_name": "StyleView",
      "description_width": ""
     }
    },
    "a12e8e1f368d4d078b692b62cbe6dce8": {
     "model_module": "@jupyter-widgets/controls",
     "model_module_version": "1.5.0",
     "model_name": "HTMLModel",
     "state": {
      "_dom_classes": [],
      "_model_module": "@jupyter-widgets/controls",
      "_model_module_version": "1.5.0",
      "_model_name": "HTMLModel",
      "_view_count": null,
      "_view_module": "@jupyter-widgets/controls",
      "_view_module_version": "1.5.0",
      "_view_name": "HTMLView",
      "description": "",
      "description_tooltip": null,
      "layout": "IPY_MODEL_2456dc5534c048eba4a9422cfe7e7005",
      "placeholder": "​",
      "style": "IPY_MODEL_7ab8047ae23c4952afb472d02f1deb2a",
      "value": " 2/2 [01:08&lt;00:00, 31.39s/it]"
     }
    },
    "a1f241e33f5441578f2d7c4c6aeb4292": {
     "model_module": "@jupyter-widgets/controls",
     "model_module_version": "1.5.0",
     "model_name": "HBoxModel",
     "state": {
      "_dom_classes": [],
      "_model_module": "@jupyter-widgets/controls",
      "_model_module_version": "1.5.0",
      "_model_name": "HBoxModel",
      "_view_count": null,
      "_view_module": "@jupyter-widgets/controls",
      "_view_module_version": "1.5.0",
      "_view_name": "HBoxView",
      "box_style": "",
      "children": [
       "IPY_MODEL_44b0a7e740114e6c806976e2991a5d02",
       "IPY_MODEL_e0a6f09f5f644b61be2e623e28f34df7",
       "IPY_MODEL_a12e8e1f368d4d078b692b62cbe6dce8"
      ],
      "layout": "IPY_MODEL_e89232ef50de488097eaba25ab20c75a"
     }
    },
    "aad440ea96404ce7a1d9160b78700273": {
     "model_module": "@jupyter-widgets/base",
     "model_module_version": "1.2.0",
     "model_name": "LayoutModel",
     "state": {
      "_model_module": "@jupyter-widgets/base",
      "_model_module_version": "1.2.0",
      "_model_name": "LayoutModel",
      "_view_count": null,
      "_view_module": "@jupyter-widgets/base",
      "_view_module_version": "1.2.0",
      "_view_name": "LayoutView",
      "align_content": null,
      "align_items": null,
      "align_self": null,
      "border": null,
      "bottom": null,
      "display": null,
      "flex": null,
      "flex_flow": null,
      "grid_area": null,
      "grid_auto_columns": null,
      "grid_auto_flow": null,
      "grid_auto_rows": null,
      "grid_column": null,
      "grid_gap": null,
      "grid_row": null,
      "grid_template_areas": null,
      "grid_template_columns": null,
      "grid_template_rows": null,
      "height": null,
      "justify_content": null,
      "justify_items": null,
      "left": null,
      "margin": null,
      "max_height": null,
      "max_width": null,
      "min_height": null,
      "min_width": null,
      "object_fit": null,
      "object_position": null,
      "order": null,
      "overflow": null,
      "overflow_x": null,
      "overflow_y": null,
      "padding": null,
      "right": null,
      "top": null,
      "visibility": null,
      "width": null
     }
    },
    "e0a6f09f5f644b61be2e623e28f34df7": {
     "model_module": "@jupyter-widgets/controls",
     "model_module_version": "1.5.0",
     "model_name": "FloatProgressModel",
     "state": {
      "_dom_classes": [],
      "_model_module": "@jupyter-widgets/controls",
      "_model_module_version": "1.5.0",
      "_model_name": "FloatProgressModel",
      "_view_count": null,
      "_view_module": "@jupyter-widgets/controls",
      "_view_module_version": "1.5.0",
      "_view_name": "ProgressView",
      "bar_style": "success",
      "description": "",
      "description_tooltip": null,
      "layout": "IPY_MODEL_2a328410f00643968013fd7a57c8c7c1",
      "max": 2,
      "min": 0,
      "orientation": "horizontal",
      "style": "IPY_MODEL_29f98fa1afe84606aa06f1044f99fbf3",
      "value": 2
     }
    },
    "e89232ef50de488097eaba25ab20c75a": {
     "model_module": "@jupyter-widgets/base",
     "model_module_version": "1.2.0",
     "model_name": "LayoutModel",
     "state": {
      "_model_module": "@jupyter-widgets/base",
      "_model_module_version": "1.2.0",
      "_model_name": "LayoutModel",
      "_view_count": null,
      "_view_module": "@jupyter-widgets/base",
      "_view_module_version": "1.2.0",
      "_view_name": "LayoutView",
      "align_content": null,
      "align_items": null,
      "align_self": null,
      "border": null,
      "bottom": null,
      "display": null,
      "flex": null,
      "flex_flow": null,
      "grid_area": null,
      "grid_auto_columns": null,
      "grid_auto_flow": null,
      "grid_auto_rows": null,
      "grid_column": null,
      "grid_gap": null,
      "grid_row": null,
      "grid_template_areas": null,
      "grid_template_columns": null,
      "grid_template_rows": null,
      "height": null,
      "justify_content": null,
      "justify_items": null,
      "left": null,
      "margin": null,
      "max_height": null,
      "max_width": null,
      "min_height": null,
      "min_width": null,
      "object_fit": null,
      "object_position": null,
      "order": null,
      "overflow": null,
      "overflow_x": null,
      "overflow_y": null,
      "padding": null,
      "right": null,
      "top": null,
      "visibility": null,
      "width": null
     }
    }
   }
  }
 },
 "nbformat": 4,
 "nbformat_minor": 4
}
