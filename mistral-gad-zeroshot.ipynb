{
 "cells": [
  {
   "cell_type": "code",
   "execution_count": 4,
   "metadata": {
    "execution": {
     "iopub.execute_input": "2024-01-25T18:27:47.394091Z",
     "iopub.status.busy": "2024-01-25T18:27:47.393749Z",
     "iopub.status.idle": "2024-01-25T18:27:47.398159Z",
     "shell.execute_reply": "2024-01-25T18:27:47.397420Z",
     "shell.execute_reply.started": "2024-01-25T18:27:47.394064Z"
    }
   },
   "outputs": [],
   "source": [
    "# !poetry add -Uqqq pip --progress-bar off\n",
    "# !poetry add -qqq torch==2.0.1 --progress-bar off\n",
    "# !poetry add -qqq transformers==4.33.2 --progress-bar off"
   ]
  },
  {
   "cell_type": "code",
   "execution_count": 5,
   "metadata": {
    "colab": {
     "base_uri": "https://localhost:8080/"
    },
    "execution": {
     "iopub.execute_input": "2024-01-25T18:27:47.399642Z",
     "iopub.status.busy": "2024-01-25T18:27:47.399264Z",
     "iopub.status.idle": "2024-01-25T18:34:47.190511Z",
     "shell.execute_reply": "2024-01-25T18:34:47.189236Z",
     "shell.execute_reply.started": "2024-01-25T18:27:47.399607Z"
    },
    "id": "WITjlYIZXQSJ",
    "outputId": "0fbcbc41-53d3-4569-b702-764f8cee22b8"
   },
   "outputs": [
    {
     "name": "stdout",
     "output_type": "stream",
     "text": [
      "\u001b[31mERROR: pip's dependency resolver does not currently take into account all the packages that are installed. This behaviour is the source of the following dependency conflicts.\n",
      "torchaudio 2.0.1 requires torch==2.0.0, but you have torch 2.0.1 which is incompatible.\n",
      "torchvision 0.15.1 requires torch==2.0.0, but you have torch 2.0.1 which is incompatible.\u001b[0m\u001b[31m\n",
      "\u001b[0m\u001b[31mERROR: Could not build wheels for tokenizers, which is required to install pyproject.toml-based projects\u001b[0m\u001b[31m\n",
      "\u001b[0m\u001b[31mERROR: Could not find a version that satisfies the requirement auto-gptq==0.4.2 (from versions: 0.0.4, 0.0.5, 0.1.0, 0.2.0, 0.2.1, 0.2.2, 0.3.0, 0.3.1, 0.3.2, 0.5.0, 0.5.1, 0.6.0)\u001b[0m\u001b[31m\n",
      "\u001b[0m\u001b[31mERROR: No matching distribution found for auto-gptq==0.4.2\u001b[0m\u001b[31m\n",
      "\u001b[0m"
     ]
    }
   ],
   "source": [
    "!pip install -Uqqq pip --progress-bar off\n",
    "!pip install -qqq torch==2.0.1 --progress-bar off\n",
    "!pip install -qqq transformers==4.33.2 --progress-bar off\n",
    "!pip install -qqq langchain==0.0.299 --progress-bar off\n",
    "!pip install -qqq chromadb==0.4.10 --progress-bar off\n",
    "!pip install -qqq xformers==0.0.21 --progress-bar off\n",
    "!pip install -qqq sentence_transformers==2.2.2 --progress-bar off\n",
    "!pip install -qqq tokenizers==0.11.1 --progress-bar off\n"
   ]
  },
  {
   "cell_type": "code",
   "execution_count": 7,
   "metadata": {
    "execution": {
     "iopub.execute_input": "2024-01-25T18:34:50.515616Z",
     "iopub.status.busy": "2024-01-25T18:34:50.514895Z",
     "iopub.status.idle": "2024-01-25T18:34:50.844096Z",
     "shell.execute_reply": "2024-01-25T18:34:50.843045Z",
     "shell.execute_reply.started": "2024-01-25T18:34:50.515589Z"
    },
    "id": "88bhzQu8myRz"
   },
   "outputs": [],
   "source": [
    "import pandas as pd\n",
    "import json\n"
   ]
  },
  {
   "cell_type": "code",
   "execution_count": 8,
   "metadata": {
    "colab": {
     "base_uri": "https://localhost:8080/"
    },
    "execution": {
     "iopub.execute_input": "2024-01-25T18:34:50.848044Z",
     "iopub.status.busy": "2024-01-25T18:34:50.845364Z",
     "iopub.status.idle": "2024-01-25T18:34:52.579013Z",
     "shell.execute_reply": "2024-01-25T18:34:52.578111Z",
     "shell.execute_reply.started": "2024-01-25T18:34:50.848005Z"
    },
    "id": "qCEUdZv-AXpG",
    "outputId": "bc63d541-0908-4c44-989b-18fb3c0559b6"
   },
   "outputs": [
    {
     "name": "stdout",
     "output_type": "stream",
     "text": [
      "Token will not been saved to git credential helper. Pass `add_to_git_credential=True` if you want to set the git credential as well.\n",
      "Token is valid (permission: write).\n",
      "Your token has been saved to /Users/harshul/.cache/huggingface/token\n",
      "Login successful\n"
     ]
    }
   ],
   "source": [
    "from huggingface_hub import login\n",
    "login()"
   ]
  },
  {
   "cell_type": "code",
   "execution_count": 10,
   "metadata": {},
   "outputs": [
    {
     "name": "stdout",
     "output_type": "stream",
     "text": [
      "\u001b[1mOllama\u001b[0m\n",
      "Params: {}\n"
     ]
    }
   ],
   "source": [
    "from langchain.llms import Ollama\n",
    "\n",
    "llm = Ollama(model=\"mistral:instruct\")\n",
    "\n",
    "print(llm)"
   ]
  },
  {
   "cell_type": "code",
   "execution_count": 14,
   "metadata": {
    "execution": {
     "iopub.execute_input": "2024-01-25T18:36:35.257416Z",
     "iopub.status.busy": "2024-01-25T18:36:35.257082Z",
     "iopub.status.idle": "2024-01-25T18:36:35.272463Z",
     "shell.execute_reply": "2024-01-25T18:36:35.271667Z",
     "shell.execute_reply.started": "2024-01-25T18:36:35.257391Z"
    },
    "id": "6wTwidj4j3Xm"
   },
   "outputs": [],
   "source": [
    "from langchain import PromptTemplate\n",
    "\n",
    "template = \"\"\"\n",
    "<s>[INST] <<SYS>>\n",
    "For a given user post sentence, does it show signs of the symptom. Answer in binary \"yes\" or \"no\", for every symptom. The symptoms are as follows:\n",
    "[Feeling nervous, anxious, or on edge, Not being able to stop or control worrying, Worrying too much about different things, Trouble relaxing, Being so restless that it is hard to sit still, Becoming easily annoyed or irritable, Feeling afraid, as if something awful\n",
    "might happen].\n",
    "\n",
    "Give the output as a python list of lists, with the list containing the symptom and the answer, separated by a comma.\n",
    "{text}:\n",
    "<</SYS>>\n",
    "\n",
    "{text} [/INST]\n",
    "\"\"\"\n",
    "\n",
    "prompt = PromptTemplate(\n",
    "    input_variables=[\"text\"],\n",
    "    template=template,\n",
    ")"
   ]
  },
  {
   "cell_type": "code",
   "execution_count": 15,
   "metadata": {
    "execution": {
     "iopub.execute_input": "2024-01-25T18:36:35.275683Z",
     "iopub.status.busy": "2024-01-25T18:36:35.274724Z",
     "iopub.status.idle": "2024-01-25T18:36:35.290841Z",
     "shell.execute_reply": "2024-01-25T18:36:35.290163Z",
     "shell.execute_reply.started": "2024-01-25T18:36:35.275651Z"
    },
    "id": "PbBW3r7sUwHg"
   },
   "outputs": [],
   "source": [
    "text = \"\"\"\n",
    "Even during my depression I’ll get these small mini bursts of optimism and motivation thinking, “maybe I can make it?! Maybe I can improve my life and be happy!” And I’ll go to the gym for one day, or run, or try to learn something new, but that’s short lasted. The second I complete the task all I can think is. “What’s the point? I’m probably going to die anyway, so why spend time improving myself?”\n",
    "\n",
    "I honestly have no will to even live life, all my energy is spent just existing by distracting myself and spending money on stupid shit just to forget about life.\n",
    "\n",
    "I feel stuck in purgatory. Not courageous enough to kill myself, not motivated enough to make myself happy. I’m stuck. Existing.\n",
    "\"\"\""
   ]
  },
  {
   "cell_type": "code",
   "execution_count": 16,
   "metadata": {
    "colab": {
     "base_uri": "https://localhost:8080/"
    },
    "execution": {
     "iopub.execute_input": "2024-01-25T18:36:35.292065Z",
     "iopub.status.busy": "2024-01-25T18:36:35.291787Z",
     "iopub.status.idle": "2024-01-25T18:36:35.304320Z",
     "shell.execute_reply": "2024-01-25T18:36:35.303542Z",
     "shell.execute_reply.started": "2024-01-25T18:36:35.292042Z"
    },
    "id": "HmU2U_R8Xz-A",
    "outputId": "a77ffb48-84b2-4797-c459-79f791f9c975"
   },
   "outputs": [
    {
     "name": "stdout",
     "output_type": "stream",
     "text": [
      "\n",
      "<s>[INST] <<SYS>>\n",
      "For a given user post sentence, does it show signs of the symptom. Answer in binary \"yes\" or \"no\", for every symptom. The symptoms are as follows:\n",
      "[Feeling nervous, anxious, or on edge, Not being able to stop or control worrying, Worrying too much about different things, Trouble relaxing, Being so restless that it is hard to sit still, Becoming easily annoyed or irritable, Feeling afraid, as if something awful\n",
      "might happen].\n",
      "\n",
      "Give the output as a python list of lists, with the list containing the symptom and the answer, separated by a comma.\n",
      "\n",
      "Even during my depression I’ll get these small mini bursts of optimism and motivation thinking, “maybe I can make it?! Maybe I can improve my life and be happy!” And I’ll go to the gym for one day, or run, or try to learn something new, but that’s short lasted. The second I complete the task all I can think is. “What’s the point? I’m probably going to die anyway, so why spend time improving myself?”\n",
      "\n",
      "I honestly have no will to even live life, all my energy is spent just existing by distracting myself and spending money on stupid shit just to forget about life.\n",
      "\n",
      "I feel stuck in purgatory. Not courageous enough to kill myself, not motivated enough to make myself happy. I’m stuck. Existing.\n",
      ":\n",
      "<</SYS>>\n",
      "\n",
      "\n",
      "Even during my depression I’ll get these small mini bursts of optimism and motivation thinking, “maybe I can make it?! Maybe I can improve my life and be happy!” And I’ll go to the gym for one day, or run, or try to learn something new, but that’s short lasted. The second I complete the task all I can think is. “What’s the point? I’m probably going to die anyway, so why spend time improving myself?”\n",
      "\n",
      "I honestly have no will to even live life, all my energy is spent just existing by distracting myself and spending money on stupid shit just to forget about life.\n",
      "\n",
      "I feel stuck in purgatory. Not courageous enough to kill myself, not motivated enough to make myself happy. I’m stuck. Existing.\n",
      " [/INST]\n",
      "\n"
     ]
    }
   ],
   "source": [
    "print(prompt.format(text=text))"
   ]
  },
  {
   "cell_type": "code",
   "execution_count": 17,
   "metadata": {
    "colab": {
     "base_uri": "https://localhost:8080/"
    },
    "execution": {
     "iopub.execute_input": "2024-01-25T18:36:35.305702Z",
     "iopub.status.busy": "2024-01-25T18:36:35.305464Z",
     "iopub.status.idle": "2024-01-25T18:36:48.465952Z",
     "shell.execute_reply": "2024-01-25T18:36:48.465038Z",
     "shell.execute_reply.started": "2024-01-25T18:36:35.305681Z"
    },
    "id": "UavB1ZxiT6ns",
    "outputId": "ffac2116-ad5a-47bd-dac0-4091360c94d9"
   },
   "outputs": [
    {
     "name": "stdout",
     "output_type": "stream",
     "text": [
      "CPU times: user 32.3 ms, sys: 79.1 ms, total: 111 ms\n",
      "Wall time: 21.7 s\n"
     ]
    }
   ],
   "source": [
    "%%time\n",
    "result = llm(prompt.format(text=text))"
   ]
  },
  {
   "cell_type": "code",
   "execution_count": 18,
   "metadata": {
    "colab": {
     "base_uri": "https://localhost:8080/"
    },
    "execution": {
     "iopub.execute_input": "2024-01-25T18:36:48.467860Z",
     "iopub.status.busy": "2024-01-25T18:36:48.467261Z",
     "iopub.status.idle": "2024-01-25T18:36:48.472677Z",
     "shell.execute_reply": "2024-01-25T18:36:48.471730Z",
     "shell.execute_reply.started": "2024-01-25T18:36:48.467825Z"
    },
    "id": "BmQLAM7mmuAo",
    "outputId": "50678b0e-aaee-4b53-dbcb-8a1ba25565ce"
   },
   "outputs": [
    {
     "name": "stdout",
     "output_type": "stream",
     "text": [
      " [[\"Feeling nervous, anxious, or on edge\", \"yes\"], [\"Not being able to stop or control worrying\", \"yes\"], [\"Worrying too much about different things\", \"yes\"], [\"Trouble relaxing\", \"yes\"], [\"Becoming easily annoyed or irritable\", \"yes\"], [\"Feeling afraid, as if something awful might happen\", \"yes\"]]\n"
     ]
    }
   ],
   "source": [
    "print(result)"
   ]
  },
  {
   "cell_type": "code",
   "execution_count": 20,
   "metadata": {
    "colab": {
     "base_uri": "https://localhost:8080/",
     "height": 883
    },
    "execution": {
     "iopub.execute_input": "2024-01-25T18:36:48.485901Z",
     "iopub.status.busy": "2024-01-25T18:36:48.485547Z",
     "iopub.status.idle": "2024-01-25T18:47:02.122005Z",
     "shell.execute_reply": "2024-01-25T18:47:02.121196Z",
     "shell.execute_reply.started": "2024-01-25T18:36:48.485870Z"
    },
    "id": "UiZ8u73cOQsy",
    "outputId": "c1b29243-8ea5-4916-a9cc-657d491bfc41"
   },
   "outputs": [
    {
     "name": "stdout",
     "output_type": "stream",
     "text": [
      "0\n",
      "TITLE: How am I supposed to improve my life when I constantly want to die\n",
      "1\n",
      "TITLE: Should I click yes to give the psychiatrist permission to share my information with one of my parents? What are they gonna share?\n",
      "2\n",
      "TITLE: What would you do in my position?\n",
      "3\n",
      "TITLE: SO says it's depression linked. How to stop being too much?\n",
      "4\n",
      "TITLE: Your experience with SSRI's\n",
      "5\n",
      "TITLE: Two Faced People - Need Advice\n",
      "6\n",
      "TITLE: How can I force myself to do important things when I’m feeling like shit?\n",
      "7\n",
      "TITLE: I feel like i'm loosing my best friend and I don't know what to do\n",
      "8\n",
      "TITLE: I hate myself so much, I don't deserve to live\n",
      "9\n",
      "TITLE: My reward system is fked\n",
      "10\n",
      "TITLE: My dad just threatened me for crying and going to my room and i would really need some kind words\n",
      "11\n",
      "TITLE: Teenager with no hope.\n",
      "12\n",
      "TITLE: I'm really depressed and I want to get help but I don't know what to do\n",
      "13\n",
      "TITLE: What helped you see some hope for your future, and how can I help my friend see even just a glimmer of hope?\n",
      "14\n",
      "TITLE: Placing too much on outside help?\n",
      "15\n",
      "TITLE: My grandma just passed away how do I deal with the loss\n",
      "16\n",
      "TITLE: It's so painful\n",
      "17\n",
      "TITLE: I need help\n",
      "18\n",
      "TITLE: Feeling so down and beating myself up for mistakes\n",
      "19\n",
      "TITLE: How do I make a female partner who's depressed feel better?\n",
      "20\n",
      "TITLE: I feel myself slipping again\n",
      "21\n",
      "TITLE: Should I be drunk all the time?\n",
      "22\n",
      "TITLE: Self-Improvement help\n",
      "23\n",
      "TITLE: Idk how to get out of this funk I’m in\n",
      "24\n",
      "TITLE: Am I ungrateful for not being happy?\n",
      "25\n",
      "TITLE: Looking for success stories from adults who have been depressed most of their lives\n",
      "26\n",
      "TITLE: What is wrong with me? How can I go from content to suicidal in a couple of hours?\n",
      "27\n",
      "TITLE: How can I (28f) help my Mum (56f) who is depressed and considering suicide.\n",
      "28\n",
      "TITLE: No matter what I think I feel like I can't stop myself from suicide\n",
      "29\n",
      "TITLE: I can’t describe what i felt anymore\n",
      "30\n",
      "TITLE: I'm 18F and I don't know if I'm depressed\n",
      "31\n",
      "TITLE: What can I do to stop being a weirdo?\n",
      "32\n",
      "TITLE: Fell back into binge eating, not taking care of myself, oversleeping.. Spiraling.\n",
      "33\n",
      "TITLE: Overthinking is killing me\n",
      "34\n",
      "TITLE: Taking antidepressants or not?\n",
      "35\n",
      "TITLE: am I suicidal even if I know I won't kill myself?\n",
      "36\n",
      "TITLE: My brains are fried...\n",
      "37\n",
      "TITLE: Should I tell my therapist I'm suicidal\n",
      "38\n",
      "TITLE: \"Paying for happiness\" - anyone else?\n",
      "39\n",
      "TITLE: What can I do…\n"
     ]
    }
   ],
   "source": [
    "# with open('/kaggle/input/primate/primate_dataset.json', 'r') as file:\n",
    "#     data = json.load(file)\n",
    "\n",
    "# Initialize lists for columns\n",
    "post_titles = []\n",
    "second_columns = []\n",
    "i=0\n",
    "# Process each entry in the JSON data\n",
    "\n",
    "import pandas as pd\n",
    "df = pd.read_csv('prompt_dataset_primate.csv')\n",
    "\n",
    "for index, row in df.iterrows():\n",
    "    # Extract post_title and post_text\n",
    "    print(index)\n",
    "    post_title = row['Title']\n",
    "    post_text = row['Text']\n",
    "    print(f'TITLE: {post_title}')\n",
    "    #print(f'TEXT: {post_text}')\n",
    "\n",
    "    # Process post_text using the get_ans function\n",
    "    second_column_value = llm(prompt.format(text=post_text))\n",
    "\n",
    "    # Append values to lists\n",
    "    post_titles.append(post_title)\n",
    "    second_columns.append(second_column_value)\n",
    "\n",
    "# Create a DataFrame\n",
    "df = pd.DataFrame({'Title': post_titles, 'Output': second_columns})\n",
    "\n",
    "# Write DataFrame to CSV\n",
    "#df.to_csv('abc.csv', index=False)\n"
   ]
  },
  {
   "cell_type": "code",
   "execution_count": 59,
   "metadata": {
    "execution": {
     "iopub.execute_input": "2024-01-25T18:47:02.158237Z",
     "iopub.status.busy": "2024-01-25T18:47:02.157480Z",
     "iopub.status.idle": "2024-01-25T18:47:02.175302Z",
     "shell.execute_reply": "2024-01-25T18:47:02.174410Z",
     "shell.execute_reply.started": "2024-01-25T18:47:02.158195Z"
    },
    "id": "830GTGmTOQeO"
   },
   "outputs": [
    {
     "name": "stdout",
     "output_type": "stream",
     "text": [
      "SUCCESS\n"
     ]
    }
   ],
   "source": [
    "# df.to_csv('mistral_zeroshot_gad.csv', index=False)\n",
    "# print('SUCCESS')"
   ]
  }
 ],
 "metadata": {
  "accelerator": "GPU",
  "colab": {
   "gpuType": "T4",
   "provenance": []
  },
  "kaggle": {
   "accelerator": "nvidiaTeslaT4",
   "dataSources": [
    {
     "datasetId": 4272037,
     "sourceId": 7355538,
     "sourceType": "datasetVersion"
    },
    {
     "datasetId": 4272787,
     "sourceId": 7356642,
     "sourceType": "datasetVersion"
    }
   ],
   "dockerImageVersionId": 30636,
   "isGpuEnabled": true,
   "isInternetEnabled": true,
   "language": "python",
   "sourceType": "notebook"
  },
  "kernelspec": {
   "display_name": "Python 3 (ipykernel)",
   "language": "python",
   "name": "python3"
  },
  "language_info": {
   "codemirror_mode": {
    "name": "ipython",
    "version": 3
   },
   "file_extension": ".py",
   "mimetype": "text/x-python",
   "name": "python",
   "nbconvert_exporter": "python",
   "pygments_lexer": "ipython3",
   "version": "3.9.4"
  },
  "widgets": {
   "application/vnd.jupyter.widget-state+json": {
    "2456dc5534c048eba4a9422cfe7e7005": {
     "model_module": "@jupyter-widgets/base",
     "model_module_version": "1.2.0",
     "model_name": "LayoutModel",
     "state": {
      "_model_module": "@jupyter-widgets/base",
      "_model_module_version": "1.2.0",
      "_model_name": "LayoutModel",
      "_view_count": null,
      "_view_module": "@jupyter-widgets/base",
      "_view_module_version": "1.2.0",
      "_view_name": "LayoutView",
      "align_content": null,
      "align_items": null,
      "align_self": null,
      "border": null,
      "bottom": null,
      "display": null,
      "flex": null,
      "flex_flow": null,
      "grid_area": null,
      "grid_auto_columns": null,
      "grid_auto_flow": null,
      "grid_auto_rows": null,
      "grid_column": null,
      "grid_gap": null,
      "grid_row": null,
      "grid_template_areas": null,
      "grid_template_columns": null,
      "grid_template_rows": null,
      "height": null,
      "justify_content": null,
      "justify_items": null,
      "left": null,
      "margin": null,
      "max_height": null,
      "max_width": null,
      "min_height": null,
      "min_width": null,
      "object_fit": null,
      "object_position": null,
      "order": null,
      "overflow": null,
      "overflow_x": null,
      "overflow_y": null,
      "padding": null,
      "right": null,
      "top": null,
      "visibility": null,
      "width": null
     }
    },
    "29f98fa1afe84606aa06f1044f99fbf3": {
     "model_module": "@jupyter-widgets/controls",
     "model_module_version": "1.5.0",
     "model_name": "ProgressStyleModel",
     "state": {
      "_model_module": "@jupyter-widgets/controls",
      "_model_module_version": "1.5.0",
      "_model_name": "ProgressStyleModel",
      "_view_count": null,
      "_view_module": "@jupyter-widgets/base",
      "_view_module_version": "1.2.0",
      "_view_name": "StyleView",
      "bar_color": null,
      "description_width": ""
     }
    },
    "2a328410f00643968013fd7a57c8c7c1": {
     "model_module": "@jupyter-widgets/base",
     "model_module_version": "1.2.0",
     "model_name": "LayoutModel",
     "state": {
      "_model_module": "@jupyter-widgets/base",
      "_model_module_version": "1.2.0",
      "_model_name": "LayoutModel",
      "_view_count": null,
      "_view_module": "@jupyter-widgets/base",
      "_view_module_version": "1.2.0",
      "_view_name": "LayoutView",
      "align_content": null,
      "align_items": null,
      "align_self": null,
      "border": null,
      "bottom": null,
      "display": null,
      "flex": null,
      "flex_flow": null,
      "grid_area": null,
      "grid_auto_columns": null,
      "grid_auto_flow": null,
      "grid_auto_rows": null,
      "grid_column": null,
      "grid_gap": null,
      "grid_row": null,
      "grid_template_areas": null,
      "grid_template_columns": null,
      "grid_template_rows": null,
      "height": null,
      "justify_content": null,
      "justify_items": null,
      "left": null,
      "margin": null,
      "max_height": null,
      "max_width": null,
      "min_height": null,
      "min_width": null,
      "object_fit": null,
      "object_position": null,
      "order": null,
      "overflow": null,
      "overflow_x": null,
      "overflow_y": null,
      "padding": null,
      "right": null,
      "top": null,
      "visibility": null,
      "width": null
     }
    },
    "44b0a7e740114e6c806976e2991a5d02": {
     "model_module": "@jupyter-widgets/controls",
     "model_module_version": "1.5.0",
     "model_name": "HTMLModel",
     "state": {
      "_dom_classes": [],
      "_model_module": "@jupyter-widgets/controls",
      "_model_module_version": "1.5.0",
      "_model_name": "HTMLModel",
      "_view_count": null,
      "_view_module": "@jupyter-widgets/controls",
      "_view_module_version": "1.5.0",
      "_view_name": "HTMLView",
      "description": "",
      "description_tooltip": null,
      "layout": "IPY_MODEL_aad440ea96404ce7a1d9160b78700273",
      "placeholder": "​",
      "style": "IPY_MODEL_4ce47d3b62744e74899eafd1bc7b7b58",
      "value": "Loading checkpoint shards: 100%"
     }
    },
    "4ce47d3b62744e74899eafd1bc7b7b58": {
     "model_module": "@jupyter-widgets/controls",
     "model_module_version": "1.5.0",
     "model_name": "DescriptionStyleModel",
     "state": {
      "_model_module": "@jupyter-widgets/controls",
      "_model_module_version": "1.5.0",
      "_model_name": "DescriptionStyleModel",
      "_view_count": null,
      "_view_module": "@jupyter-widgets/base",
      "_view_module_version": "1.2.0",
      "_view_name": "StyleView",
      "description_width": ""
     }
    },
    "7ab8047ae23c4952afb472d02f1deb2a": {
     "model_module": "@jupyter-widgets/controls",
     "model_module_version": "1.5.0",
     "model_name": "DescriptionStyleModel",
     "state": {
      "_model_module": "@jupyter-widgets/controls",
      "_model_module_version": "1.5.0",
      "_model_name": "DescriptionStyleModel",
      "_view_count": null,
      "_view_module": "@jupyter-widgets/base",
      "_view_module_version": "1.2.0",
      "_view_name": "StyleView",
      "description_width": ""
     }
    },
    "a12e8e1f368d4d078b692b62cbe6dce8": {
     "model_module": "@jupyter-widgets/controls",
     "model_module_version": "1.5.0",
     "model_name": "HTMLModel",
     "state": {
      "_dom_classes": [],
      "_model_module": "@jupyter-widgets/controls",
      "_model_module_version": "1.5.0",
      "_model_name": "HTMLModel",
      "_view_count": null,
      "_view_module": "@jupyter-widgets/controls",
      "_view_module_version": "1.5.0",
      "_view_name": "HTMLView",
      "description": "",
      "description_tooltip": null,
      "layout": "IPY_MODEL_2456dc5534c048eba4a9422cfe7e7005",
      "placeholder": "​",
      "style": "IPY_MODEL_7ab8047ae23c4952afb472d02f1deb2a",
      "value": " 2/2 [01:08&lt;00:00, 31.39s/it]"
     }
    },
    "a1f241e33f5441578f2d7c4c6aeb4292": {
     "model_module": "@jupyter-widgets/controls",
     "model_module_version": "1.5.0",
     "model_name": "HBoxModel",
     "state": {
      "_dom_classes": [],
      "_model_module": "@jupyter-widgets/controls",
      "_model_module_version": "1.5.0",
      "_model_name": "HBoxModel",
      "_view_count": null,
      "_view_module": "@jupyter-widgets/controls",
      "_view_module_version": "1.5.0",
      "_view_name": "HBoxView",
      "box_style": "",
      "children": [
       "IPY_MODEL_44b0a7e740114e6c806976e2991a5d02",
       "IPY_MODEL_e0a6f09f5f644b61be2e623e28f34df7",
       "IPY_MODEL_a12e8e1f368d4d078b692b62cbe6dce8"
      ],
      "layout": "IPY_MODEL_e89232ef50de488097eaba25ab20c75a"
     }
    },
    "aad440ea96404ce7a1d9160b78700273": {
     "model_module": "@jupyter-widgets/base",
     "model_module_version": "1.2.0",
     "model_name": "LayoutModel",
     "state": {
      "_model_module": "@jupyter-widgets/base",
      "_model_module_version": "1.2.0",
      "_model_name": "LayoutModel",
      "_view_count": null,
      "_view_module": "@jupyter-widgets/base",
      "_view_module_version": "1.2.0",
      "_view_name": "LayoutView",
      "align_content": null,
      "align_items": null,
      "align_self": null,
      "border": null,
      "bottom": null,
      "display": null,
      "flex": null,
      "flex_flow": null,
      "grid_area": null,
      "grid_auto_columns": null,
      "grid_auto_flow": null,
      "grid_auto_rows": null,
      "grid_column": null,
      "grid_gap": null,
      "grid_row": null,
      "grid_template_areas": null,
      "grid_template_columns": null,
      "grid_template_rows": null,
      "height": null,
      "justify_content": null,
      "justify_items": null,
      "left": null,
      "margin": null,
      "max_height": null,
      "max_width": null,
      "min_height": null,
      "min_width": null,
      "object_fit": null,
      "object_position": null,
      "order": null,
      "overflow": null,
      "overflow_x": null,
      "overflow_y": null,
      "padding": null,
      "right": null,
      "top": null,
      "visibility": null,
      "width": null
     }
    },
    "e0a6f09f5f644b61be2e623e28f34df7": {
     "model_module": "@jupyter-widgets/controls",
     "model_module_version": "1.5.0",
     "model_name": "FloatProgressModel",
     "state": {
      "_dom_classes": [],
      "_model_module": "@jupyter-widgets/controls",
      "_model_module_version": "1.5.0",
      "_model_name": "FloatProgressModel",
      "_view_count": null,
      "_view_module": "@jupyter-widgets/controls",
      "_view_module_version": "1.5.0",
      "_view_name": "ProgressView",
      "bar_style": "success",
      "description": "",
      "description_tooltip": null,
      "layout": "IPY_MODEL_2a328410f00643968013fd7a57c8c7c1",
      "max": 2,
      "min": 0,
      "orientation": "horizontal",
      "style": "IPY_MODEL_29f98fa1afe84606aa06f1044f99fbf3",
      "value": 2
     }
    },
    "e89232ef50de488097eaba25ab20c75a": {
     "model_module": "@jupyter-widgets/base",
     "model_module_version": "1.2.0",
     "model_name": "LayoutModel",
     "state": {
      "_model_module": "@jupyter-widgets/base",
      "_model_module_version": "1.2.0",
      "_model_name": "LayoutModel",
      "_view_count": null,
      "_view_module": "@jupyter-widgets/base",
      "_view_module_version": "1.2.0",
      "_view_name": "LayoutView",
      "align_content": null,
      "align_items": null,
      "align_self": null,
      "border": null,
      "bottom": null,
      "display": null,
      "flex": null,
      "flex_flow": null,
      "grid_area": null,
      "grid_auto_columns": null,
      "grid_auto_flow": null,
      "grid_auto_rows": null,
      "grid_column": null,
      "grid_gap": null,
      "grid_row": null,
      "grid_template_areas": null,
      "grid_template_columns": null,
      "grid_template_rows": null,
      "height": null,
      "justify_content": null,
      "justify_items": null,
      "left": null,
      "margin": null,
      "max_height": null,
      "max_width": null,
      "min_height": null,
      "min_width": null,
      "object_fit": null,
      "object_position": null,
      "order": null,
      "overflow": null,
      "overflow_x": null,
      "overflow_y": null,
      "padding": null,
      "right": null,
      "top": null,
      "visibility": null,
      "width": null
     }
    }
   }
  }
 },
 "nbformat": 4,
 "nbformat_minor": 4
}
