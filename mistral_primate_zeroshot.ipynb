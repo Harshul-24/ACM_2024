{
 "cells": [
  {
   "cell_type": "code",
   "execution_count": 5,
   "metadata": {
    "colab": {
     "base_uri": "https://localhost:8080/"
    },
    "execution": {
     "iopub.execute_input": "2024-01-18T16:55:02.762281Z",
     "iopub.status.busy": "2024-01-18T16:55:02.761890Z",
     "iopub.status.idle": "2024-01-18T16:57:26.962927Z",
     "shell.execute_reply": "2024-01-18T16:57:26.961610Z",
     "shell.execute_reply.started": "2024-01-18T16:55:02.762253Z"
    },
    "id": "WITjlYIZXQSJ",
    "outputId": "0fbcbc41-53d3-4569-b702-764f8cee22b8"
   },
   "outputs": [
    {
     "name": "stdout",
     "output_type": "stream",
     "text": [
      "\u001b[31mERROR: pip's dependency resolver does not currently take into account all the packages that are installed. This behaviour is the source of the following dependency conflicts.\n",
      "torchaudio 2.0.1 requires torch==2.0.0, but you have torch 2.0.1 which is incompatible.\n",
      "torchvision 0.15.1 requires torch==2.0.0, but you have torch 2.0.1 which is incompatible.\u001b[0m\u001b[31m\n",
      "\u001b[0m\u001b[31mERROR: Could not build wheels for tokenizers, which is required to install pyproject.toml-based projects\u001b[0m\u001b[31m\n",
      "\u001b[0m\u001b[31mERROR: Could not find a version that satisfies the requirement auto-gptq==0.4.2 (from versions: 0.0.4, 0.0.5, 0.1.0, 0.2.0, 0.2.1, 0.2.2, 0.3.0, 0.3.1, 0.3.2, 0.5.0, 0.5.1, 0.6.0)\u001b[0m\u001b[31m\n",
      "\u001b[0m\u001b[31mERROR: No matching distribution found for auto-gptq==0.4.2\u001b[0m\u001b[31m\n",
      "\u001b[0m"
     ]
    }
   ],
   "source": [
    "!pip install -Uqqq pip --progress-bar off\n",
    "!pip install -qqq torch==2.0.1 --progress-bar off\n",
    "!pip install -qqq transformers==4.33.2 --progress-bar off\n",
    "!pip install -qqq langchain==0.0.299 --progress-bar off\n",
    "!pip install -qqq chromadb==0.4.10 --progress-bar off\n",
    "!pip install -qqq xformers==0.0.21 --progress-bar off\n",
    "!pip install -qqq sentence_transformers==2.2.2 --progress-bar off\n",
    "!pip install -qqq tokenizers==0.11.1 --progress-bar off\n"
   ]
  },
  {
   "cell_type": "code",
   "execution_count": 7,
   "metadata": {
    "execution": {
     "iopub.execute_input": "2024-01-18T16:57:29.309721Z",
     "iopub.status.busy": "2024-01-18T16:57:29.309440Z",
     "iopub.status.idle": "2024-01-18T16:57:29.315094Z",
     "shell.execute_reply": "2024-01-18T16:57:29.314218Z",
     "shell.execute_reply.started": "2024-01-18T16:57:29.309694Z"
    },
    "id": "88bhzQu8myRz"
   },
   "outputs": [],
   "source": [
    "import pandas as pd\n",
    "import json\n"
   ]
  },
  {
   "cell_type": "code",
   "execution_count": 8,
   "metadata": {
    "colab": {
     "base_uri": "https://localhost:8080/"
    },
    "execution": {
     "iopub.execute_input": "2024-01-18T16:57:29.316447Z",
     "iopub.status.busy": "2024-01-18T16:57:29.316184Z",
     "iopub.status.idle": "2024-01-18T16:57:30.957239Z",
     "shell.execute_reply": "2024-01-18T16:57:30.956234Z",
     "shell.execute_reply.started": "2024-01-18T16:57:29.316419Z"
    },
    "id": "qCEUdZv-AXpG",
    "outputId": "bc63d541-0908-4c44-989b-18fb3c0559b6"
   },
   "outputs": [
    {
     "name": "stdout",
     "output_type": "stream",
     "text": [
      "Token will not been saved to git credential helper. Pass `add_to_git_credential=True` if you want to set the git credential as well.\n",
      "Token is valid (permission: write).\n",
      "Your token has been saved to /Users/harshul/.cache/huggingface/token\n",
      "Login successful\n"
     ]
    }
   ],
   "source": [
    "from huggingface_hub import login\n",
    "login()"
   ]
  },
  {
   "cell_type": "code",
   "execution_count": 9,
   "metadata": {
    "colab": {
     "base_uri": "https://localhost:8080/",
     "height": 49,
     "referenced_widgets": [
      "a1f241e33f5441578f2d7c4c6aeb4292",
      "44b0a7e740114e6c806976e2991a5d02",
      "e0a6f09f5f644b61be2e623e28f34df7",
      "a12e8e1f368d4d078b692b62cbe6dce8",
      "e89232ef50de488097eaba25ab20c75a",
      "aad440ea96404ce7a1d9160b78700273",
      "4ce47d3b62744e74899eafd1bc7b7b58",
      "2a328410f00643968013fd7a57c8c7c1",
      "29f98fa1afe84606aa06f1044f99fbf3",
      "2456dc5534c048eba4a9422cfe7e7005",
      "7ab8047ae23c4952afb472d02f1deb2a"
     ]
    },
    "execution": {
     "iopub.execute_input": "2024-01-18T16:57:30.958951Z",
     "iopub.status.busy": "2024-01-18T16:57:30.958634Z",
     "iopub.status.idle": "2024-01-18T16:57:37.182426Z",
     "shell.execute_reply": "2024-01-18T16:57:37.181533Z",
     "shell.execute_reply.started": "2024-01-18T16:57:30.958922Z"
    },
    "id": "ty1a6FgJEoMM",
    "outputId": "3c208181-84cf-4ff0-da23-bf56d957c6e9"
   },
   "outputs": [],
   "source": [
    "# import torch\n",
    "# from langchain import HuggingFacePipeline\n",
    "# from transformers import AutoModelForCausalLM, AutoTokenizer, GenerationConfig, pipeline\n",
    "\n",
    "# MODEL_NAME = \"meta-llama/Llama-2-7b-chat-hf\"\n",
    "# #MODEL_NAME = \"meta-llama/Llama-2-7b-chat\"\n",
    "# tokenizer = AutoTokenizer.from_pretrained(MODEL_NAME, use_fast=True)\n",
    "\n",
    "# model = AutoModelForCausalLM.from_pretrained(\n",
    "#     MODEL_NAME, torch_dtype=torch.float16, trust_remote_code=True, device_map=\"auto\"\n",
    "# )\n",
    "\n",
    "# generation_config = GenerationConfig.from_pretrained(MODEL_NAME)\n",
    "# generation_config.max_new_tokens = 1024\n",
    "# generation_config.temperature = 0.0001\n",
    "# generation_config.top_p = 0.95\n",
    "# generation_config.do_sample = True\n",
    "# generation_config.repetition_penalty = 1.15\n",
    "\n",
    "# text_pipeline = pipeline(\n",
    "#     \"text-generation\",\n",
    "#     model=model,\n",
    "#     tokenizer=tokenizer,\n",
    "#     return_full_text=True,\n",
    "#     generation_config=generation_config,\n",
    "# )\n",
    "\n",
    "# llm = HuggingFacePipeline(pipeline=text_pipeline, model_kwargs={\"temperature\": 0.001})"
   ]
  },
  {
   "cell_type": "code",
   "execution_count": 10,
   "metadata": {},
   "outputs": [],
   "source": [
    "from langchain.llms import Ollama\n",
    "\n",
    "llm = Ollama(model=\"mistral:instruct\")"
   ]
  },
  {
   "cell_type": "code",
   "execution_count": 15,
   "metadata": {
    "execution": {
     "iopub.execute_input": "2024-01-18T16:57:37.231629Z",
     "iopub.status.busy": "2024-01-18T16:57:37.231346Z",
     "iopub.status.idle": "2024-01-18T16:57:37.238482Z",
     "shell.execute_reply": "2024-01-18T16:57:37.237743Z",
     "shell.execute_reply.started": "2024-01-18T16:57:37.231604Z"
    },
    "id": "6wTwidj4j3Xm"
   },
   "outputs": [],
   "source": [
    "from langchain import PromptTemplate\n",
    "\n",
    "template = \"\"\"\n",
    "<s>[INST] <<SYS>>\n",
    "For a given user post sentence, does it show signs of the symptom. Answer in binary \"yes\" or \n",
    "\"no\", for every symptom. The symptoms are as follows:\n",
    "[Little interest or pleasure in doing things,\n",
    "\n",
    "Feeling down, depressed, or hopeless, \n",
    "\n",
    "Trouble falling or staying asleep, or sleeping too much, \n",
    "Feeling tired or having little energy, \n",
    "\n",
    "Poor appetite or overeating, \n",
    "\n",
    "Feeling bad about yourself or that you are a failure or\n",
    "have let yourself or your family down, \n",
    "\n",
    "Trouble concentrating on things, such as reading the\n",
    "newspaper or watching television,\n",
    "\n",
    "Moving or speaking so slowly that other people could\n",
    "have noticed. Or the opposite being so figety or\n",
    "restless that you have been moving around a lot more\n",
    "than usual,\n",
    "\n",
    "Thoughts that you would be better off dead, or of\n",
    "hurting yourself] .\n",
    "\n",
    "Give the output as a python list of lists, with the list containing the symptom and the\n",
    "answer, separated by a comma.\n",
    "{text}:\n",
    "<</SYS>>\n",
    "\n",
    "{text} [/INST]\n",
    "\"\"\"\n",
    "\n",
    "prompt = PromptTemplate(\n",
    "    input_variables=[\"text\"],\n",
    "    template=template,\n",
    ")"
   ]
  },
  {
   "cell_type": "code",
   "execution_count": 16,
   "metadata": {
    "execution": {
     "iopub.execute_input": "2024-01-18T16:57:37.240270Z",
     "iopub.status.busy": "2024-01-18T16:57:37.239631Z",
     "iopub.status.idle": "2024-01-18T16:57:37.253846Z",
     "shell.execute_reply": "2024-01-18T16:57:37.252905Z",
     "shell.execute_reply.started": "2024-01-18T16:57:37.240233Z"
    },
    "id": "PbBW3r7sUwHg"
   },
   "outputs": [],
   "source": [
    "text = \"\"\"\n",
    "Even during my depression I’ll get these small mini bursts of optimism and motivation thinking, “maybe I can make it?! Maybe I can improve my life and be happy!” And I’ll go to the gym for one day, or run, or try to learn something new, but that’s short lasted. The second I complete the task all I can think is. “What’s the point? I’m probably going to die anyway, so why spend time improving myself?”\n",
    "\n",
    "I honestly have no will to even live life, all my energy is spent just existing by distracting myself and spending money on stupid shit just to forget about life.\n",
    "\n",
    "I feel stuck in purgatory. Not courageous enough to kill myself, not motivated enough to make myself happy. I’m stuck. Existing.\n",
    "\"\"\""
   ]
  },
  {
   "cell_type": "code",
   "execution_count": 18,
   "metadata": {
    "colab": {
     "base_uri": "https://localhost:8080/"
    },
    "execution": {
     "iopub.status.busy": "2024-01-18T16:57:37.269038Z",
     "iopub.status.idle": "2024-01-18T16:57:37.269512Z",
     "shell.execute_reply": "2024-01-18T16:57:37.269295Z",
     "shell.execute_reply.started": "2024-01-18T16:57:37.269272Z"
    },
    "id": "HmU2U_R8Xz-A",
    "outputId": "a77ffb48-84b2-4797-c459-79f791f9c975"
   },
   "outputs": [
    {
     "name": "stdout",
     "output_type": "stream",
     "text": [
      "\n",
      "<s>[INST] <<SYS>>\n",
      "For a given user post sentence, does it show signs of the symptom. Answer in binary \"yes\" or \n",
      "\"no\", for every symptom. The symptoms are as follows:\n",
      "[Little interest or pleasure in doing things,\n",
      "\n",
      "Feeling down, depressed, or hopeless, \n",
      "\n",
      "Trouble falling or staying asleep, or sleeping too much, \n",
      "Feeling tired or having little energy, \n",
      "\n",
      "Poor appetite or overeating, \n",
      "\n",
      "Feeling bad about yourself or that you are a failure or\n",
      "have let yourself or your family down, \n",
      "\n",
      "Trouble concentrating on things, such as reading the\n",
      "newspaper or watching television,\n",
      "\n",
      "Moving or speaking so slowly that other people could\n",
      "have noticed. Or the opposite being so figety or\n",
      "restless that you have been moving around a lot more\n",
      "than usual,\n",
      "\n",
      "Thoughts that you would be better off dead, or of\n",
      "hurting yourself] .\n",
      "\n",
      "Give the output as a python list of lists, with the list containing the symptom and the\n",
      "answer, separated by a comma.\n",
      "\n",
      "Even during my depression I’ll get these small mini bursts of optimism and motivation thinking, “maybe I can make it?! Maybe I can improve my life and be happy!” And I’ll go to the gym for one day, or run, or try to learn something new, but that’s short lasted. The second I complete the task all I can think is. “What’s the point? I’m probably going to die anyway, so why spend time improving myself?”\n",
      "\n",
      "I honestly have no will to even live life, all my energy is spent just existing by distracting myself and spending money on stupid shit just to forget about life.\n",
      "\n",
      "I feel stuck in purgatory. Not courageous enough to kill myself, not motivated enough to make myself happy. I’m stuck. Existing.\n",
      ":\n",
      "<</SYS>>\n",
      "\n",
      "\n",
      "Even during my depression I’ll get these small mini bursts of optimism and motivation thinking, “maybe I can make it?! Maybe I can improve my life and be happy!” And I’ll go to the gym for one day, or run, or try to learn something new, but that’s short lasted. The second I complete the task all I can think is. “What’s the point? I’m probably going to die anyway, so why spend time improving myself?”\n",
      "\n",
      "I honestly have no will to even live life, all my energy is spent just existing by distracting myself and spending money on stupid shit just to forget about life.\n",
      "\n",
      "I feel stuck in purgatory. Not courageous enough to kill myself, not motivated enough to make myself happy. I’m stuck. Existing.\n",
      " [/INST]\n",
      "\n"
     ]
    }
   ],
   "source": [
    "print(prompt.format(text=text))"
   ]
  },
  {
   "cell_type": "code",
   "execution_count": 19,
   "metadata": {
    "colab": {
     "base_uri": "https://localhost:8080/"
    },
    "execution": {
     "iopub.status.busy": "2024-01-18T16:57:37.271267Z",
     "iopub.status.idle": "2024-01-18T16:57:37.271636Z",
     "shell.execute_reply": "2024-01-18T16:57:37.271478Z",
     "shell.execute_reply.started": "2024-01-18T16:57:37.271461Z"
    },
    "id": "UavB1ZxiT6ns",
    "outputId": "ffac2116-ad5a-47bd-dac0-4091360c94d9"
   },
   "outputs": [
    {
     "name": "stdout",
     "output_type": "stream",
     "text": [
      "CPU times: user 96.8 ms, sys: 558 ms, total: 655 ms\n",
      "Wall time: 1min 10s\n"
     ]
    }
   ],
   "source": [
    "%%time\n",
    "result = llm(prompt.format(text=text))"
   ]
  },
  {
   "cell_type": "code",
   "execution_count": 20,
   "metadata": {
    "colab": {
     "base_uri": "https://localhost:8080/"
    },
    "execution": {
     "iopub.status.busy": "2024-01-18T16:57:37.273525Z",
     "iopub.status.idle": "2024-01-18T16:57:37.274078Z",
     "shell.execute_reply": "2024-01-18T16:57:37.273863Z",
     "shell.execute_reply.started": "2024-01-18T16:57:37.273829Z"
    },
    "id": "BmQLAM7mmuAo",
    "outputId": "50678b0e-aaee-4b53-dbcb-8a1ba25565ce"
   },
   "outputs": [
    {
     "name": "stdout",
     "output_type": "stream",
     "text": [
      " [[\"Little interest or pleasure in doing things\", \"yes\"],\n",
      " [\"Feeling down, depressed, or hopeless\", \"yes\"],\n",
      " [\"Trouble falling or staying asleep, or sleeping too much\", \"no\"],\n",
      " [\"Feeling tired or having little energy\", \"yes\"],\n",
      " [\"Poor appetite or overeating\", \"yes\"],\n",
      " [\"Feeling bad about yourself or that you are a failure or have let yourself or your family down\", \"yes\"],\n",
      " [\"Trouble concentrating on things, such as reading the newspaper or watching television\", \"yes\"],\n",
      " [\"Moving or speaking so slowly that other people could have noticed. Or the opposite being so figety or restless that you have been moving around a lot more than usual\", \"no\"],\n",
      " [\"Thoughts that you would be better off dead, or of hurting yourself\", \"yes\"]]\n"
     ]
    }
   ],
   "source": [
    "print(result)"
   ]
  },
  {
   "cell_type": "code",
   "execution_count": null,
   "metadata": {
    "colab": {
     "base_uri": "https://localhost:8080/",
     "height": 883
    },
    "execution": {
     "iopub.status.busy": "2024-01-18T16:57:37.276737Z",
     "iopub.status.idle": "2024-01-18T16:57:37.277096Z",
     "shell.execute_reply": "2024-01-18T16:57:37.276944Z",
     "shell.execute_reply.started": "2024-01-18T16:57:37.276929Z"
    },
    "id": "UiZ8u73cOQsy",
    "outputId": "c1b29243-8ea5-4916-a9cc-657d491bfc41"
   },
   "outputs": [
    {
     "name": "stdout",
     "output_type": "stream",
     "text": [
      "0\n",
      "TITLE: How am I supposed to improve my life when I constantly want to die\n",
      "1\n",
      "TITLE: Should I click yes to give the psychiatrist permission to share my information with one of my parents? What are they gonna share?\n",
      "2\n",
      "TITLE: What would you do in my position?\n",
      "3\n",
      "TITLE: SO says it's depression linked. How to stop being too much?\n",
      "4\n",
      "TITLE: Your experience with SSRI's\n",
      "5\n",
      "TITLE: Two Faced People - Need Advice\n",
      "6\n",
      "TITLE: How can I force myself to do important things when I’m feeling like shit?\n",
      "7\n",
      "TITLE: I feel like i'm loosing my best friend and I don't know what to do\n",
      "8\n",
      "TITLE: I hate myself so much, I don't deserve to live\n",
      "9\n",
      "TITLE: My reward system is fked\n",
      "10\n",
      "TITLE: My dad just threatened me for crying and going to my room and i would really need some kind words\n",
      "11\n",
      "TITLE: Teenager with no hope.\n"
     ]
    }
   ],
   "source": [
    "# with open('/kaggle/input/primate/primate_dataset.json', 'r') as file:\n",
    "#     data = json.load(file)\n",
    "\n",
    "# Initialize lists for columns\n",
    "post_titles = []\n",
    "second_columns = []\n",
    "i=0\n",
    "# Process each entry in the JSON data\n",
    "\n",
    "import pandas as pd\n",
    "df = pd.read_csv('prompt_dataset_primate.csv')\n",
    "\n",
    "for index, row in df.iterrows():\n",
    "    # Extract post_title and post_text\n",
    "    print(index)\n",
    "    post_title = row['Title']\n",
    "    post_text = row['Text']\n",
    "    print(f'TITLE: {post_title}')\n",
    "    #print(f'TEXT: {post_text}')\n",
    "\n",
    "    # Process post_text using the get_ans function\n",
    "    second_column_value = llm(prompt.format(text=post_text))\n",
    "\n",
    "    # Append values to lists\n",
    "    post_titles.append(post_title)\n",
    "    second_columns.append(second_column_value)\n",
    "\n",
    "# Create a DataFrame\n",
    "df = pd.DataFrame({'Title': post_titles, 'Output': second_columns})\n",
    "\n",
    "# Write DataFrame to CSV\n",
    "#df.to_csv('abc.csv', index=False)\n"
   ]
  },
  {
   "cell_type": "code",
   "execution_count": null,
   "metadata": {
    "execution": {
     "iopub.status.busy": "2024-01-18T16:57:37.279817Z",
     "iopub.status.idle": "2024-01-18T16:57:37.280266Z",
     "shell.execute_reply": "2024-01-18T16:57:37.280051Z",
     "shell.execute_reply.started": "2024-01-18T16:57:37.280029Z"
    },
    "id": "830GTGmTOQeO"
   },
   "outputs": [],
   "source": [
    "# df.to_csv('mistral_zeroshot_rerun.csv', index=False)\n",
    "# print('SUCCESS')"
   ]
  }
 ],
 "metadata": {
  "accelerator": "GPU",
  "colab": {
   "gpuType": "T4",
   "provenance": []
  },
  "kaggle": {
   "accelerator": "nvidiaTeslaT4",
   "dataSources": [
    {
     "datasetId": 4272037,
     "sourceId": 7355538,
     "sourceType": "datasetVersion"
    },
    {
     "datasetId": 4272787,
     "sourceId": 7356642,
     "sourceType": "datasetVersion"
    }
   ],
   "dockerImageVersionId": 30627,
   "isGpuEnabled": true,
   "isInternetEnabled": true,
   "language": "python",
   "sourceType": "notebook"
  },
  "kernelspec": {
   "display_name": "Python 3 (ipykernel)",
   "language": "python",
   "name": "python3"
  },
  "language_info": {
   "codemirror_mode": {
    "name": "ipython",
    "version": 3
   },
   "file_extension": ".py",
   "mimetype": "text/x-python",
   "name": "python",
   "nbconvert_exporter": "python",
   "pygments_lexer": "ipython3",
   "version": "3.9.4"
  },
  "widgets": {
   "application/vnd.jupyter.widget-state+json": {
    "2456dc5534c048eba4a9422cfe7e7005": {
     "model_module": "@jupyter-widgets/base",
     "model_module_version": "1.2.0",
     "model_name": "LayoutModel",
     "state": {
      "_model_module": "@jupyter-widgets/base",
      "_model_module_version": "1.2.0",
      "_model_name": "LayoutModel",
      "_view_count": null,
      "_view_module": "@jupyter-widgets/base",
      "_view_module_version": "1.2.0",
      "_view_name": "LayoutView",
      "align_content": null,
      "align_items": null,
      "align_self": null,
      "border": null,
      "bottom": null,
      "display": null,
      "flex": null,
      "flex_flow": null,
      "grid_area": null,
      "grid_auto_columns": null,
      "grid_auto_flow": null,
      "grid_auto_rows": null,
      "grid_column": null,
      "grid_gap": null,
      "grid_row": null,
      "grid_template_areas": null,
      "grid_template_columns": null,
      "grid_template_rows": null,
      "height": null,
      "justify_content": null,
      "justify_items": null,
      "left": null,
      "margin": null,
      "max_height": null,
      "max_width": null,
      "min_height": null,
      "min_width": null,
      "object_fit": null,
      "object_position": null,
      "order": null,
      "overflow": null,
      "overflow_x": null,
      "overflow_y": null,
      "padding": null,
      "right": null,
      "top": null,
      "visibility": null,
      "width": null
     }
    },
    "29f98fa1afe84606aa06f1044f99fbf3": {
     "model_module": "@jupyter-widgets/controls",
     "model_module_version": "1.5.0",
     "model_name": "ProgressStyleModel",
     "state": {
      "_model_module": "@jupyter-widgets/controls",
      "_model_module_version": "1.5.0",
      "_model_name": "ProgressStyleModel",
      "_view_count": null,
      "_view_module": "@jupyter-widgets/base",
      "_view_module_version": "1.2.0",
      "_view_name": "StyleView",
      "bar_color": null,
      "description_width": ""
     }
    },
    "2a328410f00643968013fd7a57c8c7c1": {
     "model_module": "@jupyter-widgets/base",
     "model_module_version": "1.2.0",
     "model_name": "LayoutModel",
     "state": {
      "_model_module": "@jupyter-widgets/base",
      "_model_module_version": "1.2.0",
      "_model_name": "LayoutModel",
      "_view_count": null,
      "_view_module": "@jupyter-widgets/base",
      "_view_module_version": "1.2.0",
      "_view_name": "LayoutView",
      "align_content": null,
      "align_items": null,
      "align_self": null,
      "border": null,
      "bottom": null,
      "display": null,
      "flex": null,
      "flex_flow": null,
      "grid_area": null,
      "grid_auto_columns": null,
      "grid_auto_flow": null,
      "grid_auto_rows": null,
      "grid_column": null,
      "grid_gap": null,
      "grid_row": null,
      "grid_template_areas": null,
      "grid_template_columns": null,
      "grid_template_rows": null,
      "height": null,
      "justify_content": null,
      "justify_items": null,
      "left": null,
      "margin": null,
      "max_height": null,
      "max_width": null,
      "min_height": null,
      "min_width": null,
      "object_fit": null,
      "object_position": null,
      "order": null,
      "overflow": null,
      "overflow_x": null,
      "overflow_y": null,
      "padding": null,
      "right": null,
      "top": null,
      "visibility": null,
      "width": null
     }
    },
    "44b0a7e740114e6c806976e2991a5d02": {
     "model_module": "@jupyter-widgets/controls",
     "model_module_version": "1.5.0",
     "model_name": "HTMLModel",
     "state": {
      "_dom_classes": [],
      "_model_module": "@jupyter-widgets/controls",
      "_model_module_version": "1.5.0",
      "_model_name": "HTMLModel",
      "_view_count": null,
      "_view_module": "@jupyter-widgets/controls",
      "_view_module_version": "1.5.0",
      "_view_name": "HTMLView",
      "description": "",
      "description_tooltip": null,
      "layout": "IPY_MODEL_aad440ea96404ce7a1d9160b78700273",
      "placeholder": "​",
      "style": "IPY_MODEL_4ce47d3b62744e74899eafd1bc7b7b58",
      "value": "Loading checkpoint shards: 100%"
     }
    },
    "4ce47d3b62744e74899eafd1bc7b7b58": {
     "model_module": "@jupyter-widgets/controls",
     "model_module_version": "1.5.0",
     "model_name": "DescriptionStyleModel",
     "state": {
      "_model_module": "@jupyter-widgets/controls",
      "_model_module_version": "1.5.0",
      "_model_name": "DescriptionStyleModel",
      "_view_count": null,
      "_view_module": "@jupyter-widgets/base",
      "_view_module_version": "1.2.0",
      "_view_name": "StyleView",
      "description_width": ""
     }
    },
    "7ab8047ae23c4952afb472d02f1deb2a": {
     "model_module": "@jupyter-widgets/controls",
     "model_module_version": "1.5.0",
     "model_name": "DescriptionStyleModel",
     "state": {
      "_model_module": "@jupyter-widgets/controls",
      "_model_module_version": "1.5.0",
      "_model_name": "DescriptionStyleModel",
      "_view_count": null,
      "_view_module": "@jupyter-widgets/base",
      "_view_module_version": "1.2.0",
      "_view_name": "StyleView",
      "description_width": ""
     }
    },
    "a12e8e1f368d4d078b692b62cbe6dce8": {
     "model_module": "@jupyter-widgets/controls",
     "model_module_version": "1.5.0",
     "model_name": "HTMLModel",
     "state": {
      "_dom_classes": [],
      "_model_module": "@jupyter-widgets/controls",
      "_model_module_version": "1.5.0",
      "_model_name": "HTMLModel",
      "_view_count": null,
      "_view_module": "@jupyter-widgets/controls",
      "_view_module_version": "1.5.0",
      "_view_name": "HTMLView",
      "description": "",
      "description_tooltip": null,
      "layout": "IPY_MODEL_2456dc5534c048eba4a9422cfe7e7005",
      "placeholder": "​",
      "style": "IPY_MODEL_7ab8047ae23c4952afb472d02f1deb2a",
      "value": " 2/2 [01:08&lt;00:00, 31.39s/it]"
     }
    },
    "a1f241e33f5441578f2d7c4c6aeb4292": {
     "model_module": "@jupyter-widgets/controls",
     "model_module_version": "1.5.0",
     "model_name": "HBoxModel",
     "state": {
      "_dom_classes": [],
      "_model_module": "@jupyter-widgets/controls",
      "_model_module_version": "1.5.0",
      "_model_name": "HBoxModel",
      "_view_count": null,
      "_view_module": "@jupyter-widgets/controls",
      "_view_module_version": "1.5.0",
      "_view_name": "HBoxView",
      "box_style": "",
      "children": [
       "IPY_MODEL_44b0a7e740114e6c806976e2991a5d02",
       "IPY_MODEL_e0a6f09f5f644b61be2e623e28f34df7",
       "IPY_MODEL_a12e8e1f368d4d078b692b62cbe6dce8"
      ],
      "layout": "IPY_MODEL_e89232ef50de488097eaba25ab20c75a"
     }
    },
    "aad440ea96404ce7a1d9160b78700273": {
     "model_module": "@jupyter-widgets/base",
     "model_module_version": "1.2.0",
     "model_name": "LayoutModel",
     "state": {
      "_model_module": "@jupyter-widgets/base",
      "_model_module_version": "1.2.0",
      "_model_name": "LayoutModel",
      "_view_count": null,
      "_view_module": "@jupyter-widgets/base",
      "_view_module_version": "1.2.0",
      "_view_name": "LayoutView",
      "align_content": null,
      "align_items": null,
      "align_self": null,
      "border": null,
      "bottom": null,
      "display": null,
      "flex": null,
      "flex_flow": null,
      "grid_area": null,
      "grid_auto_columns": null,
      "grid_auto_flow": null,
      "grid_auto_rows": null,
      "grid_column": null,
      "grid_gap": null,
      "grid_row": null,
      "grid_template_areas": null,
      "grid_template_columns": null,
      "grid_template_rows": null,
      "height": null,
      "justify_content": null,
      "justify_items": null,
      "left": null,
      "margin": null,
      "max_height": null,
      "max_width": null,
      "min_height": null,
      "min_width": null,
      "object_fit": null,
      "object_position": null,
      "order": null,
      "overflow": null,
      "overflow_x": null,
      "overflow_y": null,
      "padding": null,
      "right": null,
      "top": null,
      "visibility": null,
      "width": null
     }
    },
    "e0a6f09f5f644b61be2e623e28f34df7": {
     "model_module": "@jupyter-widgets/controls",
     "model_module_version": "1.5.0",
     "model_name": "FloatProgressModel",
     "state": {
      "_dom_classes": [],
      "_model_module": "@jupyter-widgets/controls",
      "_model_module_version": "1.5.0",
      "_model_name": "FloatProgressModel",
      "_view_count": null,
      "_view_module": "@jupyter-widgets/controls",
      "_view_module_version": "1.5.0",
      "_view_name": "ProgressView",
      "bar_style": "success",
      "description": "",
      "description_tooltip": null,
      "layout": "IPY_MODEL_2a328410f00643968013fd7a57c8c7c1",
      "max": 2,
      "min": 0,
      "orientation": "horizontal",
      "style": "IPY_MODEL_29f98fa1afe84606aa06f1044f99fbf3",
      "value": 2
     }
    },
    "e89232ef50de488097eaba25ab20c75a": {
     "model_module": "@jupyter-widgets/base",
     "model_module_version": "1.2.0",
     "model_name": "LayoutModel",
     "state": {
      "_model_module": "@jupyter-widgets/base",
      "_model_module_version": "1.2.0",
      "_model_name": "LayoutModel",
      "_view_count": null,
      "_view_module": "@jupyter-widgets/base",
      "_view_module_version": "1.2.0",
      "_view_name": "LayoutView",
      "align_content": null,
      "align_items": null,
      "align_self": null,
      "border": null,
      "bottom": null,
      "display": null,
      "flex": null,
      "flex_flow": null,
      "grid_area": null,
      "grid_auto_columns": null,
      "grid_auto_flow": null,
      "grid_auto_rows": null,
      "grid_column": null,
      "grid_gap": null,
      "grid_row": null,
      "grid_template_areas": null,
      "grid_template_columns": null,
      "grid_template_rows": null,
      "height": null,
      "justify_content": null,
      "justify_items": null,
      "left": null,
      "margin": null,
      "max_height": null,
      "max_width": null,
      "min_height": null,
      "min_width": null,
      "object_fit": null,
      "object_position": null,
      "order": null,
      "overflow": null,
      "overflow_x": null,
      "overflow_y": null,
      "padding": null,
      "right": null,
      "top": null,
      "visibility": null,
      "width": null
     }
    }
   }
  }
 },
 "nbformat": 4,
 "nbformat_minor": 4
}
